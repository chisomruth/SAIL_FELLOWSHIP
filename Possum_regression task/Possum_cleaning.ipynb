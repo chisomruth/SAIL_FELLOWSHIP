{
  "cells": [
    {
      "cell_type": "markdown",
      "metadata": {
        "id": "view-in-github",
        "colab_type": "text"
      },
      "source": [
        "<a href=\"https://colab.research.google.com/github/chisomruth/SAIL_FELLOWSHIP_Collab/blob/main/Possum_regression%20task/Possum_cleaning.ipynb\" target=\"_parent\"><img src=\"https://colab.research.google.com/assets/colab-badge.svg\" alt=\"Open In Colab\"/></a>"
      ]
    },
    {
      "cell_type": "code",
      "source": [
        "install.packages(\"data.table\")\n",
        "library(data.table)"
      ],
      "metadata": {
        "colab": {
          "base_uri": "https://localhost:8080/"
        },
        "id": "9PwQV3ZStLSn",
        "outputId": "4d1e1114-7aaa-4452-d5c9-21092f84149a"
      },
      "execution_count": 1,
      "outputs": [
        {
          "output_type": "stream",
          "name": "stderr",
          "text": [
            "Installing package into ‘/usr/local/lib/R/site-library’\n",
            "(as ‘lib’ is unspecified)\n",
            "\n"
          ]
        }
      ]
    },
    {
      "cell_type": "code",
      "execution_count": 2,
      "metadata": {
        "colab": {
          "base_uri": "https://localhost:8080/"
        },
        "id": "Roa69dTDAPFc",
        "outputId": "9bfa27ad-e599-444f-f82b-233a9ded0265"
      },
      "outputs": [
        {
          "output_type": "stream",
          "name": "stderr",
          "text": [
            "Installing package into ‘/usr/local/lib/R/site-library’\n",
            "(as ‘lib’ is unspecified)\n",
            "\n"
          ]
        }
      ],
      "source": [
        "install.packages(\"tidyverse\")"
      ]
    },
    {
      "cell_type": "code",
      "execution_count": 3,
      "metadata": {
        "id": "ZbOu9wDpBFBo",
        "colab": {
          "base_uri": "https://localhost:8080/"
        },
        "outputId": "bd63880c-2518-4eaf-9eed-54429eea1b1f"
      },
      "outputs": [
        {
          "output_type": "stream",
          "name": "stderr",
          "text": [
            "── \u001b[1mAttaching core tidyverse packages\u001b[22m ──────────────────────── tidyverse 2.0.0 ──\n",
            "\u001b[32m✔\u001b[39m \u001b[34mdplyr    \u001b[39m 1.1.4     \u001b[32m✔\u001b[39m \u001b[34mreadr    \u001b[39m 2.1.5\n",
            "\u001b[32m✔\u001b[39m \u001b[34mforcats  \u001b[39m 1.0.0     \u001b[32m✔\u001b[39m \u001b[34mstringr  \u001b[39m 1.5.1\n",
            "\u001b[32m✔\u001b[39m \u001b[34mggplot2  \u001b[39m 3.4.4     \u001b[32m✔\u001b[39m \u001b[34mtibble   \u001b[39m 3.2.1\n",
            "\u001b[32m✔\u001b[39m \u001b[34mlubridate\u001b[39m 1.9.3     \u001b[32m✔\u001b[39m \u001b[34mtidyr    \u001b[39m 1.3.1\n",
            "\u001b[32m✔\u001b[39m \u001b[34mpurrr    \u001b[39m 1.0.2     \n",
            "── \u001b[1mConflicts\u001b[22m ────────────────────────────────────────── tidyverse_conflicts() ──\n",
            "\u001b[31m✖\u001b[39m \u001b[34mpurrr\u001b[39m::\u001b[32m%||%()\u001b[39m        masks \u001b[34mbase\u001b[39m::%||%()\n",
            "\u001b[31m✖\u001b[39m \u001b[34mdplyr\u001b[39m::\u001b[32mbetween()\u001b[39m     masks \u001b[34mdata.table\u001b[39m::between()\n",
            "\u001b[31m✖\u001b[39m \u001b[34mdplyr\u001b[39m::\u001b[32mfilter()\u001b[39m      masks \u001b[34mstats\u001b[39m::filter()\n",
            "\u001b[31m✖\u001b[39m \u001b[34mdplyr\u001b[39m::\u001b[32mfirst()\u001b[39m       masks \u001b[34mdata.table\u001b[39m::first()\n",
            "\u001b[31m✖\u001b[39m \u001b[34mlubridate\u001b[39m::\u001b[32mhour()\u001b[39m    masks \u001b[34mdata.table\u001b[39m::hour()\n",
            "\u001b[31m✖\u001b[39m \u001b[34mlubridate\u001b[39m::\u001b[32misoweek()\u001b[39m masks \u001b[34mdata.table\u001b[39m::isoweek()\n",
            "\u001b[31m✖\u001b[39m \u001b[34mdplyr\u001b[39m::\u001b[32mlag()\u001b[39m         masks \u001b[34mstats\u001b[39m::lag()\n",
            "\u001b[31m✖\u001b[39m \u001b[34mdplyr\u001b[39m::\u001b[32mlast()\u001b[39m        masks \u001b[34mdata.table\u001b[39m::last()\n",
            "\u001b[31m✖\u001b[39m \u001b[34mlubridate\u001b[39m::\u001b[32mmday()\u001b[39m    masks \u001b[34mdata.table\u001b[39m::mday()\n",
            "\u001b[31m✖\u001b[39m \u001b[34mlubridate\u001b[39m::\u001b[32mminute()\u001b[39m  masks \u001b[34mdata.table\u001b[39m::minute()\n",
            "\u001b[31m✖\u001b[39m \u001b[34mlubridate\u001b[39m::\u001b[32mmonth()\u001b[39m   masks \u001b[34mdata.table\u001b[39m::month()\n",
            "\u001b[31m✖\u001b[39m \u001b[34mlubridate\u001b[39m::\u001b[32mquarter()\u001b[39m masks \u001b[34mdata.table\u001b[39m::quarter()\n",
            "\u001b[31m✖\u001b[39m \u001b[34mlubridate\u001b[39m::\u001b[32msecond()\u001b[39m  masks \u001b[34mdata.table\u001b[39m::second()\n",
            "\u001b[31m✖\u001b[39m \u001b[34mpurrr\u001b[39m::\u001b[32mtranspose()\u001b[39m   masks \u001b[34mdata.table\u001b[39m::transpose()\n",
            "\u001b[31m✖\u001b[39m \u001b[34mlubridate\u001b[39m::\u001b[32mwday()\u001b[39m    masks \u001b[34mdata.table\u001b[39m::wday()\n",
            "\u001b[31m✖\u001b[39m \u001b[34mlubridate\u001b[39m::\u001b[32mweek()\u001b[39m    masks \u001b[34mdata.table\u001b[39m::week()\n",
            "\u001b[31m✖\u001b[39m \u001b[34mlubridate\u001b[39m::\u001b[32myday()\u001b[39m    masks \u001b[34mdata.table\u001b[39m::yday()\n",
            "\u001b[31m✖\u001b[39m \u001b[34mlubridate\u001b[39m::\u001b[32myear()\u001b[39m    masks \u001b[34mdata.table\u001b[39m::year()\n",
            "\u001b[36mℹ\u001b[39m Use the conflicted package (\u001b[3m\u001b[34m<http://conflicted.r-lib.org/>\u001b[39m\u001b[23m) to force all conflicts to become errors\n"
          ]
        }
      ],
      "source": [
        "library(tidyverse)"
      ]
    },
    {
      "cell_type": "code",
      "execution_count": 4,
      "metadata": {
        "id": "GytSuWDy_Awp"
      },
      "outputs": [],
      "source": [
        "pos  = read.csv('/content/possum.csv')"
      ]
    },
    {
      "cell_type": "code",
      "execution_count": 5,
      "metadata": {
        "colab": {
          "base_uri": "https://localhost:8080/",
          "height": 1000
        },
        "id": "MdR6pA44_QCQ",
        "outputId": "88d8dd30-f429-4eb1-e779-77f9c2c10660"
      },
      "outputs": [
        {
          "output_type": "display_data",
          "data": {
            "text/html": [
              "<table class=\"dataframe\">\n",
              "<caption>A data.frame: 50 × 14</caption>\n",
              "<thead>\n",
              "\t<tr><th></th><th scope=col>case</th><th scope=col>site</th><th scope=col>Pop</th><th scope=col>sex</th><th scope=col>age</th><th scope=col>hdlngth</th><th scope=col>skullw</th><th scope=col>totlngth</th><th scope=col>taill</th><th scope=col>footlgth</th><th scope=col>earconch</th><th scope=col>eye</th><th scope=col>chest</th><th scope=col>belly</th></tr>\n",
              "\t<tr><th></th><th scope=col>&lt;int&gt;</th><th scope=col>&lt;int&gt;</th><th scope=col>&lt;chr&gt;</th><th scope=col>&lt;chr&gt;</th><th scope=col>&lt;int&gt;</th><th scope=col>&lt;dbl&gt;</th><th scope=col>&lt;dbl&gt;</th><th scope=col>&lt;dbl&gt;</th><th scope=col>&lt;dbl&gt;</th><th scope=col>&lt;dbl&gt;</th><th scope=col>&lt;dbl&gt;</th><th scope=col>&lt;dbl&gt;</th><th scope=col>&lt;dbl&gt;</th><th scope=col>&lt;dbl&gt;</th></tr>\n",
              "</thead>\n",
              "<tbody>\n",
              "\t<tr><th scope=row>1</th><td> 1</td><td>1</td><td>Vic  </td><td>m</td><td> 8</td><td>94.1</td><td>60.4</td><td>89.0</td><td>36.0</td><td>74.5</td><td>54.5</td><td>15.2</td><td>28.0</td><td>36.0</td></tr>\n",
              "\t<tr><th scope=row>2</th><td> 2</td><td>1</td><td>Vic  </td><td>f</td><td> 6</td><td>92.5</td><td>57.6</td><td>91.5</td><td>36.5</td><td>72.5</td><td>51.2</td><td>16.0</td><td>28.5</td><td>33.0</td></tr>\n",
              "\t<tr><th scope=row>3</th><td> 3</td><td>1</td><td>Vic  </td><td>f</td><td> 6</td><td>94.0</td><td>60.0</td><td>95.5</td><td>39.0</td><td>75.4</td><td>51.9</td><td>15.5</td><td>30.0</td><td>34.0</td></tr>\n",
              "\t<tr><th scope=row>4</th><td> 4</td><td>1</td><td>Vic  </td><td>f</td><td> 6</td><td>93.2</td><td>57.1</td><td>92.0</td><td>38.0</td><td>76.1</td><td>52.2</td><td>15.2</td><td>28.0</td><td>34.0</td></tr>\n",
              "\t<tr><th scope=row>5</th><td> 5</td><td>1</td><td>Vic  </td><td>f</td><td> 2</td><td>91.5</td><td>56.3</td><td>85.5</td><td>36.0</td><td>71.0</td><td>53.2</td><td>15.1</td><td>28.5</td><td>33.0</td></tr>\n",
              "\t<tr><th scope=row>6</th><td> 6</td><td>1</td><td>Vic  </td><td>f</td><td> 1</td><td>93.1</td><td>54.8</td><td>90.5</td><td>35.5</td><td>73.2</td><td>53.6</td><td>14.2</td><td>30.0</td><td>32.0</td></tr>\n",
              "\t<tr><th scope=row>7</th><td> 7</td><td>1</td><td>Vic  </td><td>m</td><td> 2</td><td>95.3</td><td>58.2</td><td>89.5</td><td>36.0</td><td>71.5</td><td>52.0</td><td>14.2</td><td>30.0</td><td>34.5</td></tr>\n",
              "\t<tr><th scope=row>8</th><td> 8</td><td>1</td><td>Vic  </td><td>f</td><td> 6</td><td>94.8</td><td>57.6</td><td>91.0</td><td>37.0</td><td>72.7</td><td>53.9</td><td>14.5</td><td>29.0</td><td>34.0</td></tr>\n",
              "\t<tr><th scope=row>9</th><td> 9</td><td>1</td><td>Vic  </td><td>f</td><td> 9</td><td>93.4</td><td>56.3</td><td>91.5</td><td>37.0</td><td>72.4</td><td>52.9</td><td>15.5</td><td>28.0</td><td>33.0</td></tr>\n",
              "\t<tr><th scope=row>10</th><td>10</td><td>1</td><td>Vic  </td><td>f</td><td> 6</td><td>91.8</td><td>58.0</td><td>89.5</td><td>37.5</td><td>70.9</td><td>53.4</td><td>14.4</td><td>27.5</td><td>32.0</td></tr>\n",
              "\t<tr><th scope=row>11</th><td>11</td><td>1</td><td>Vic  </td><td>f</td><td> 9</td><td>93.3</td><td>57.2</td><td>89.5</td><td>39.0</td><td>77.2</td><td>51.3</td><td>14.9</td><td>31.0</td><td>34.0</td></tr>\n",
              "\t<tr><th scope=row>12</th><td>12</td><td>1</td><td>Vic  </td><td>f</td><td> 5</td><td>94.9</td><td>55.6</td><td>92.0</td><td>35.5</td><td>71.7</td><td>51.0</td><td>15.3</td><td>28.0</td><td>33.0</td></tr>\n",
              "\t<tr><th scope=row>13</th><td>13</td><td>1</td><td>Vic  </td><td>m</td><td> 5</td><td>95.1</td><td>59.9</td><td>89.5</td><td>36.0</td><td>71.0</td><td>49.8</td><td>15.8</td><td>27.0</td><td>32.0</td></tr>\n",
              "\t<tr><th scope=row>14</th><td>14</td><td>1</td><td>Vic  </td><td>m</td><td> 3</td><td>95.4</td><td>57.6</td><td>91.5</td><td>36.0</td><td>74.3</td><td>53.7</td><td>15.1</td><td>28.0</td><td>31.5</td></tr>\n",
              "\t<tr><th scope=row>15</th><td>15</td><td>1</td><td>Vic  </td><td>m</td><td> 5</td><td>92.9</td><td>57.6</td><td>85.5</td><td>34.0</td><td>69.7</td><td>51.8</td><td>15.7</td><td>28.0</td><td>35.0</td></tr>\n",
              "\t<tr><th scope=row>16</th><td>16</td><td>1</td><td>Vic  </td><td>m</td><td> 4</td><td>91.6</td><td>56.0</td><td>86.0</td><td>34.5</td><td>73.0</td><td>51.4</td><td>14.4</td><td>28.0</td><td>32.0</td></tr>\n",
              "\t<tr><th scope=row>17</th><td>17</td><td>1</td><td>Vic  </td><td>f</td><td> 1</td><td>94.7</td><td>67.7</td><td>89.5</td><td>36.5</td><td>73.2</td><td>53.2</td><td>14.7</td><td>29.0</td><td>31.0</td></tr>\n",
              "\t<tr><th scope=row>18</th><td>18</td><td>1</td><td>Vic  </td><td>m</td><td> 2</td><td>93.5</td><td>55.7</td><td>90.0</td><td>36.0</td><td>73.7</td><td>55.4</td><td>15.3</td><td>28.0</td><td>32.0</td></tr>\n",
              "\t<tr><th scope=row>19</th><td>19</td><td>1</td><td>Vic  </td><td>f</td><td> 5</td><td>94.4</td><td>55.4</td><td>90.5</td><td>35.0</td><td>73.4</td><td>53.9</td><td>15.2</td><td>28.0</td><td>32.0</td></tr>\n",
              "\t<tr><th scope=row>20</th><td>20</td><td>1</td><td>Vic  </td><td>f</td><td> 4</td><td>94.8</td><td>56.3</td><td>89.0</td><td>38.0</td><td>73.8</td><td>52.4</td><td>15.5</td><td>27.0</td><td>36.0</td></tr>\n",
              "\t<tr><th scope=row>21</th><td>21</td><td>1</td><td>Vic  </td><td>f</td><td> 3</td><td>95.9</td><td>58.1</td><td>96.5</td><td>39.5</td><td>77.9</td><td>52.9</td><td>14.2</td><td>30.0</td><td>40.0</td></tr>\n",
              "\t<tr><th scope=row>22</th><td>22</td><td>1</td><td>Vic  </td><td>m</td><td> 3</td><td>96.3</td><td>58.5</td><td>91.0</td><td>39.5</td><td>73.5</td><td>52.1</td><td>16.2</td><td>28.0</td><td>36.0</td></tr>\n",
              "\t<tr><th scope=row>23</th><td>23</td><td>1</td><td>Vic  </td><td>f</td><td> 4</td><td>92.5</td><td>56.1</td><td>89.0</td><td>36.0</td><td>72.8</td><td>53.3</td><td>15.4</td><td>28.0</td><td>35.0</td></tr>\n",
              "\t<tr><th scope=row>24</th><td>24</td><td>1</td><td>Vic  </td><td>m</td><td> 2</td><td>94.4</td><td>54.9</td><td>84.0</td><td>34.0</td><td>75.0</td><td>53.5</td><td>16.2</td><td>27.0</td><td>32.0</td></tr>\n",
              "\t<tr><th scope=row>25</th><td>25</td><td>1</td><td>Vic  </td><td>m</td><td> 3</td><td>95.8</td><td>58.5</td><td>91.5</td><td>35.5</td><td>72.3</td><td>51.6</td><td>14.9</td><td>31.0</td><td>35.0</td></tr>\n",
              "\t<tr><th scope=row>26</th><td>26</td><td>1</td><td>Vic  </td><td>m</td><td> 7</td><td>96.0</td><td>59.0</td><td>90.0</td><td>36.0</td><td>73.6</td><td>56.2</td><td>15.0</td><td>29.0</td><td>38.0</td></tr>\n",
              "\t<tr><th scope=row>27</th><td>27</td><td>1</td><td>Vic  </td><td>f</td><td> 2</td><td>90.5</td><td>54.5</td><td>85.0</td><td>35.0</td><td>70.3</td><td>50.8</td><td>14.2</td><td>23.0</td><td>28.0</td></tr>\n",
              "\t<tr><th scope=row>28</th><td>28</td><td>1</td><td>Vic  </td><td>m</td><td> 4</td><td>93.8</td><td>56.8</td><td>87.0</td><td>34.5</td><td>73.2</td><td>53.0</td><td>15.3</td><td>27.0</td><td>30.0</td></tr>\n",
              "\t<tr><th scope=row>29</th><td>29</td><td>1</td><td>Vic  </td><td>f</td><td> 3</td><td>92.8</td><td>56.0</td><td>88.0</td><td>35.0</td><td>74.9</td><td>51.8</td><td>14.0</td><td>24.0</td><td>32.0</td></tr>\n",
              "\t<tr><th scope=row>30</th><td>30</td><td>1</td><td>Vic  </td><td>f</td><td> 2</td><td>92.1</td><td>54.4</td><td>84.0</td><td>33.5</td><td>70.6</td><td>50.8</td><td>14.5</td><td>24.5</td><td>33.0</td></tr>\n",
              "\t<tr><th scope=row>31</th><td>31</td><td>1</td><td>Vic  </td><td>m</td><td> 3</td><td>92.8</td><td>54.1</td><td>93.0</td><td>37.0</td><td>68.0</td><td>52.5</td><td>14.5</td><td>27.0</td><td>31.0</td></tr>\n",
              "\t<tr><th scope=row>32</th><td>32</td><td>1</td><td>Vic  </td><td>f</td><td> 4</td><td>94.3</td><td>56.7</td><td>94.0</td><td>39.0</td><td>74.8</td><td>52.0</td><td>14.9</td><td>28.0</td><td>34.0</td></tr>\n",
              "\t<tr><th scope=row>33</th><td>33</td><td>1</td><td>Vic  </td><td>m</td><td> 3</td><td>91.4</td><td>54.6</td><td>89.0</td><td>37.0</td><td>70.8</td><td>51.8</td><td>14.8</td><td>24.0</td><td>30.0</td></tr>\n",
              "\t<tr><th scope=row>34</th><td>34</td><td>2</td><td>Vic  </td><td>m</td><td> 2</td><td>90.6</td><td>55.7</td><td>85.5</td><td>36.5</td><td>73.1</td><td>53.1</td><td>14.4</td><td>26.0</td><td>28.5</td></tr>\n",
              "\t<tr><th scope=row>35</th><td>35</td><td>2</td><td>Vic  </td><td>m</td><td> 4</td><td>94.4</td><td>57.9</td><td>85.0</td><td>35.5</td><td>71.2</td><td>55.5</td><td>16.4</td><td>28.0</td><td>35.5</td></tr>\n",
              "\t<tr><th scope=row>36</th><td>36</td><td>2</td><td>Vic  </td><td>m</td><td> 7</td><td>93.3</td><td>59.3</td><td>88.0</td><td>35.0</td><td>74.3</td><td>52.0</td><td>14.9</td><td>25.5</td><td>36.0</td></tr>\n",
              "\t<tr><th scope=row>37</th><td>37</td><td>2</td><td>Vic  </td><td>f</td><td> 2</td><td>89.3</td><td>54.8</td><td>82.5</td><td>35.0</td><td>71.2</td><td>52.0</td><td>13.6</td><td>28.0</td><td>31.5</td></tr>\n",
              "\t<tr><th scope=row>38</th><td>38</td><td>2</td><td>Vic  </td><td>m</td><td> 7</td><td>92.4</td><td>56.0</td><td>80.5</td><td>35.5</td><td>68.4</td><td>49.5</td><td>15.9</td><td>27.0</td><td>30.0</td></tr>\n",
              "\t<tr><th scope=row>39</th><td>39</td><td>2</td><td>Vic  </td><td>f</td><td> 1</td><td>84.7</td><td>51.5</td><td>75.0</td><td>34.0</td><td>68.7</td><td>53.4</td><td>13.0</td><td>25.0</td><td>25.0</td></tr>\n",
              "\t<tr><th scope=row>40</th><td>40</td><td>2</td><td>Vic  </td><td>f</td><td> 3</td><td>91.0</td><td>55.0</td><td>84.5</td><td>36.0</td><td>72.8</td><td>51.4</td><td>13.6</td><td>27.0</td><td>30.0</td></tr>\n",
              "\t<tr><th scope=row>41</th><td>41</td><td>2</td><td>Vic  </td><td>f</td><td> 5</td><td>88.4</td><td>57.0</td><td>83.0</td><td>36.5</td><td>  NA</td><td>40.3</td><td>15.9</td><td>27.0</td><td>30.5</td></tr>\n",
              "\t<tr><th scope=row>42</th><td>42</td><td>2</td><td>Vic  </td><td>m</td><td> 3</td><td>85.3</td><td>54.1</td><td>77.0</td><td>32.0</td><td>62.7</td><td>51.2</td><td>13.8</td><td>25.5</td><td>33.0</td></tr>\n",
              "\t<tr><th scope=row>43</th><td>43</td><td>2</td><td>Vic  </td><td>f</td><td> 2</td><td>90.0</td><td>55.5</td><td>81.0</td><td>32.0</td><td>72.0</td><td>49.4</td><td>13.4</td><td>29.0</td><td>31.0</td></tr>\n",
              "\t<tr><th scope=row>44</th><td>44</td><td>2</td><td>Vic  </td><td>m</td><td>NA</td><td>85.1</td><td>51.5</td><td>76.0</td><td>35.5</td><td>70.3</td><td>52.6</td><td>14.4</td><td>23.0</td><td>27.0</td></tr>\n",
              "\t<tr><th scope=row>45</th><td>45</td><td>2</td><td>Vic  </td><td>m</td><td> 3</td><td>90.7</td><td>55.9</td><td>81.0</td><td>34.0</td><td>71.5</td><td>54.0</td><td>14.6</td><td>27.0</td><td>31.5</td></tr>\n",
              "\t<tr><th scope=row>46</th><td>46</td><td>2</td><td>Vic  </td><td>m</td><td>NA</td><td>91.4</td><td>54.4</td><td>84.0</td><td>35.0</td><td>72.8</td><td>51.2</td><td>14.4</td><td>24.5</td><td>35.0</td></tr>\n",
              "\t<tr><th scope=row>47</th><td>47</td><td>3</td><td>other</td><td>m</td><td> 2</td><td>90.1</td><td>54.8</td><td>89.0</td><td>37.5</td><td>66.0</td><td>45.5</td><td>15.0</td><td>25.0</td><td>33.0</td></tr>\n",
              "\t<tr><th scope=row>48</th><td>48</td><td>3</td><td>other</td><td>m</td><td> 5</td><td>98.6</td><td>63.2</td><td>85.0</td><td>34.0</td><td>66.9</td><td>44.9</td><td>17.0</td><td>28.0</td><td>35.0</td></tr>\n",
              "\t<tr><th scope=row>49</th><td>49</td><td>3</td><td>other</td><td>m</td><td> 4</td><td>95.4</td><td>59.2</td><td>85.0</td><td>37.0</td><td>69.0</td><td>45.0</td><td>15.9</td><td>29.5</td><td>35.5</td></tr>\n",
              "\t<tr><th scope=row>50</th><td>50</td><td>3</td><td>other</td><td>f</td><td> 5</td><td>91.6</td><td>56.4</td><td>88.0</td><td>38.0</td><td>65.0</td><td>47.2</td><td>14.9</td><td>28.0</td><td>36.0</td></tr>\n",
              "</tbody>\n",
              "</table>\n"
            ],
            "text/markdown": "\nA data.frame: 50 × 14\n\n| <!--/--> | case &lt;int&gt; | site &lt;int&gt; | Pop &lt;chr&gt; | sex &lt;chr&gt; | age &lt;int&gt; | hdlngth &lt;dbl&gt; | skullw &lt;dbl&gt; | totlngth &lt;dbl&gt; | taill &lt;dbl&gt; | footlgth &lt;dbl&gt; | earconch &lt;dbl&gt; | eye &lt;dbl&gt; | chest &lt;dbl&gt; | belly &lt;dbl&gt; |\n|---|---|---|---|---|---|---|---|---|---|---|---|---|---|---|\n| 1 |  1 | 1 | Vic   | m |  8 | 94.1 | 60.4 | 89.0 | 36.0 | 74.5 | 54.5 | 15.2 | 28.0 | 36.0 |\n| 2 |  2 | 1 | Vic   | f |  6 | 92.5 | 57.6 | 91.5 | 36.5 | 72.5 | 51.2 | 16.0 | 28.5 | 33.0 |\n| 3 |  3 | 1 | Vic   | f |  6 | 94.0 | 60.0 | 95.5 | 39.0 | 75.4 | 51.9 | 15.5 | 30.0 | 34.0 |\n| 4 |  4 | 1 | Vic   | f |  6 | 93.2 | 57.1 | 92.0 | 38.0 | 76.1 | 52.2 | 15.2 | 28.0 | 34.0 |\n| 5 |  5 | 1 | Vic   | f |  2 | 91.5 | 56.3 | 85.5 | 36.0 | 71.0 | 53.2 | 15.1 | 28.5 | 33.0 |\n| 6 |  6 | 1 | Vic   | f |  1 | 93.1 | 54.8 | 90.5 | 35.5 | 73.2 | 53.6 | 14.2 | 30.0 | 32.0 |\n| 7 |  7 | 1 | Vic   | m |  2 | 95.3 | 58.2 | 89.5 | 36.0 | 71.5 | 52.0 | 14.2 | 30.0 | 34.5 |\n| 8 |  8 | 1 | Vic   | f |  6 | 94.8 | 57.6 | 91.0 | 37.0 | 72.7 | 53.9 | 14.5 | 29.0 | 34.0 |\n| 9 |  9 | 1 | Vic   | f |  9 | 93.4 | 56.3 | 91.5 | 37.0 | 72.4 | 52.9 | 15.5 | 28.0 | 33.0 |\n| 10 | 10 | 1 | Vic   | f |  6 | 91.8 | 58.0 | 89.5 | 37.5 | 70.9 | 53.4 | 14.4 | 27.5 | 32.0 |\n| 11 | 11 | 1 | Vic   | f |  9 | 93.3 | 57.2 | 89.5 | 39.0 | 77.2 | 51.3 | 14.9 | 31.0 | 34.0 |\n| 12 | 12 | 1 | Vic   | f |  5 | 94.9 | 55.6 | 92.0 | 35.5 | 71.7 | 51.0 | 15.3 | 28.0 | 33.0 |\n| 13 | 13 | 1 | Vic   | m |  5 | 95.1 | 59.9 | 89.5 | 36.0 | 71.0 | 49.8 | 15.8 | 27.0 | 32.0 |\n| 14 | 14 | 1 | Vic   | m |  3 | 95.4 | 57.6 | 91.5 | 36.0 | 74.3 | 53.7 | 15.1 | 28.0 | 31.5 |\n| 15 | 15 | 1 | Vic   | m |  5 | 92.9 | 57.6 | 85.5 | 34.0 | 69.7 | 51.8 | 15.7 | 28.0 | 35.0 |\n| 16 | 16 | 1 | Vic   | m |  4 | 91.6 | 56.0 | 86.0 | 34.5 | 73.0 | 51.4 | 14.4 | 28.0 | 32.0 |\n| 17 | 17 | 1 | Vic   | f |  1 | 94.7 | 67.7 | 89.5 | 36.5 | 73.2 | 53.2 | 14.7 | 29.0 | 31.0 |\n| 18 | 18 | 1 | Vic   | m |  2 | 93.5 | 55.7 | 90.0 | 36.0 | 73.7 | 55.4 | 15.3 | 28.0 | 32.0 |\n| 19 | 19 | 1 | Vic   | f |  5 | 94.4 | 55.4 | 90.5 | 35.0 | 73.4 | 53.9 | 15.2 | 28.0 | 32.0 |\n| 20 | 20 | 1 | Vic   | f |  4 | 94.8 | 56.3 | 89.0 | 38.0 | 73.8 | 52.4 | 15.5 | 27.0 | 36.0 |\n| 21 | 21 | 1 | Vic   | f |  3 | 95.9 | 58.1 | 96.5 | 39.5 | 77.9 | 52.9 | 14.2 | 30.0 | 40.0 |\n| 22 | 22 | 1 | Vic   | m |  3 | 96.3 | 58.5 | 91.0 | 39.5 | 73.5 | 52.1 | 16.2 | 28.0 | 36.0 |\n| 23 | 23 | 1 | Vic   | f |  4 | 92.5 | 56.1 | 89.0 | 36.0 | 72.8 | 53.3 | 15.4 | 28.0 | 35.0 |\n| 24 | 24 | 1 | Vic   | m |  2 | 94.4 | 54.9 | 84.0 | 34.0 | 75.0 | 53.5 | 16.2 | 27.0 | 32.0 |\n| 25 | 25 | 1 | Vic   | m |  3 | 95.8 | 58.5 | 91.5 | 35.5 | 72.3 | 51.6 | 14.9 | 31.0 | 35.0 |\n| 26 | 26 | 1 | Vic   | m |  7 | 96.0 | 59.0 | 90.0 | 36.0 | 73.6 | 56.2 | 15.0 | 29.0 | 38.0 |\n| 27 | 27 | 1 | Vic   | f |  2 | 90.5 | 54.5 | 85.0 | 35.0 | 70.3 | 50.8 | 14.2 | 23.0 | 28.0 |\n| 28 | 28 | 1 | Vic   | m |  4 | 93.8 | 56.8 | 87.0 | 34.5 | 73.2 | 53.0 | 15.3 | 27.0 | 30.0 |\n| 29 | 29 | 1 | Vic   | f |  3 | 92.8 | 56.0 | 88.0 | 35.0 | 74.9 | 51.8 | 14.0 | 24.0 | 32.0 |\n| 30 | 30 | 1 | Vic   | f |  2 | 92.1 | 54.4 | 84.0 | 33.5 | 70.6 | 50.8 | 14.5 | 24.5 | 33.0 |\n| 31 | 31 | 1 | Vic   | m |  3 | 92.8 | 54.1 | 93.0 | 37.0 | 68.0 | 52.5 | 14.5 | 27.0 | 31.0 |\n| 32 | 32 | 1 | Vic   | f |  4 | 94.3 | 56.7 | 94.0 | 39.0 | 74.8 | 52.0 | 14.9 | 28.0 | 34.0 |\n| 33 | 33 | 1 | Vic   | m |  3 | 91.4 | 54.6 | 89.0 | 37.0 | 70.8 | 51.8 | 14.8 | 24.0 | 30.0 |\n| 34 | 34 | 2 | Vic   | m |  2 | 90.6 | 55.7 | 85.5 | 36.5 | 73.1 | 53.1 | 14.4 | 26.0 | 28.5 |\n| 35 | 35 | 2 | Vic   | m |  4 | 94.4 | 57.9 | 85.0 | 35.5 | 71.2 | 55.5 | 16.4 | 28.0 | 35.5 |\n| 36 | 36 | 2 | Vic   | m |  7 | 93.3 | 59.3 | 88.0 | 35.0 | 74.3 | 52.0 | 14.9 | 25.5 | 36.0 |\n| 37 | 37 | 2 | Vic   | f |  2 | 89.3 | 54.8 | 82.5 | 35.0 | 71.2 | 52.0 | 13.6 | 28.0 | 31.5 |\n| 38 | 38 | 2 | Vic   | m |  7 | 92.4 | 56.0 | 80.5 | 35.5 | 68.4 | 49.5 | 15.9 | 27.0 | 30.0 |\n| 39 | 39 | 2 | Vic   | f |  1 | 84.7 | 51.5 | 75.0 | 34.0 | 68.7 | 53.4 | 13.0 | 25.0 | 25.0 |\n| 40 | 40 | 2 | Vic   | f |  3 | 91.0 | 55.0 | 84.5 | 36.0 | 72.8 | 51.4 | 13.6 | 27.0 | 30.0 |\n| 41 | 41 | 2 | Vic   | f |  5 | 88.4 | 57.0 | 83.0 | 36.5 |   NA | 40.3 | 15.9 | 27.0 | 30.5 |\n| 42 | 42 | 2 | Vic   | m |  3 | 85.3 | 54.1 | 77.0 | 32.0 | 62.7 | 51.2 | 13.8 | 25.5 | 33.0 |\n| 43 | 43 | 2 | Vic   | f |  2 | 90.0 | 55.5 | 81.0 | 32.0 | 72.0 | 49.4 | 13.4 | 29.0 | 31.0 |\n| 44 | 44 | 2 | Vic   | m | NA | 85.1 | 51.5 | 76.0 | 35.5 | 70.3 | 52.6 | 14.4 | 23.0 | 27.0 |\n| 45 | 45 | 2 | Vic   | m |  3 | 90.7 | 55.9 | 81.0 | 34.0 | 71.5 | 54.0 | 14.6 | 27.0 | 31.5 |\n| 46 | 46 | 2 | Vic   | m | NA | 91.4 | 54.4 | 84.0 | 35.0 | 72.8 | 51.2 | 14.4 | 24.5 | 35.0 |\n| 47 | 47 | 3 | other | m |  2 | 90.1 | 54.8 | 89.0 | 37.5 | 66.0 | 45.5 | 15.0 | 25.0 | 33.0 |\n| 48 | 48 | 3 | other | m |  5 | 98.6 | 63.2 | 85.0 | 34.0 | 66.9 | 44.9 | 17.0 | 28.0 | 35.0 |\n| 49 | 49 | 3 | other | m |  4 | 95.4 | 59.2 | 85.0 | 37.0 | 69.0 | 45.0 | 15.9 | 29.5 | 35.5 |\n| 50 | 50 | 3 | other | f |  5 | 91.6 | 56.4 | 88.0 | 38.0 | 65.0 | 47.2 | 14.9 | 28.0 | 36.0 |\n\n",
            "text/latex": "A data.frame: 50 × 14\n\\begin{tabular}{r|llllllllllllll}\n  & case & site & Pop & sex & age & hdlngth & skullw & totlngth & taill & footlgth & earconch & eye & chest & belly\\\\\n  & <int> & <int> & <chr> & <chr> & <int> & <dbl> & <dbl> & <dbl> & <dbl> & <dbl> & <dbl> & <dbl> & <dbl> & <dbl>\\\\\n\\hline\n\t1 &  1 & 1 & Vic   & m &  8 & 94.1 & 60.4 & 89.0 & 36.0 & 74.5 & 54.5 & 15.2 & 28.0 & 36.0\\\\\n\t2 &  2 & 1 & Vic   & f &  6 & 92.5 & 57.6 & 91.5 & 36.5 & 72.5 & 51.2 & 16.0 & 28.5 & 33.0\\\\\n\t3 &  3 & 1 & Vic   & f &  6 & 94.0 & 60.0 & 95.5 & 39.0 & 75.4 & 51.9 & 15.5 & 30.0 & 34.0\\\\\n\t4 &  4 & 1 & Vic   & f &  6 & 93.2 & 57.1 & 92.0 & 38.0 & 76.1 & 52.2 & 15.2 & 28.0 & 34.0\\\\\n\t5 &  5 & 1 & Vic   & f &  2 & 91.5 & 56.3 & 85.5 & 36.0 & 71.0 & 53.2 & 15.1 & 28.5 & 33.0\\\\\n\t6 &  6 & 1 & Vic   & f &  1 & 93.1 & 54.8 & 90.5 & 35.5 & 73.2 & 53.6 & 14.2 & 30.0 & 32.0\\\\\n\t7 &  7 & 1 & Vic   & m &  2 & 95.3 & 58.2 & 89.5 & 36.0 & 71.5 & 52.0 & 14.2 & 30.0 & 34.5\\\\\n\t8 &  8 & 1 & Vic   & f &  6 & 94.8 & 57.6 & 91.0 & 37.0 & 72.7 & 53.9 & 14.5 & 29.0 & 34.0\\\\\n\t9 &  9 & 1 & Vic   & f &  9 & 93.4 & 56.3 & 91.5 & 37.0 & 72.4 & 52.9 & 15.5 & 28.0 & 33.0\\\\\n\t10 & 10 & 1 & Vic   & f &  6 & 91.8 & 58.0 & 89.5 & 37.5 & 70.9 & 53.4 & 14.4 & 27.5 & 32.0\\\\\n\t11 & 11 & 1 & Vic   & f &  9 & 93.3 & 57.2 & 89.5 & 39.0 & 77.2 & 51.3 & 14.9 & 31.0 & 34.0\\\\\n\t12 & 12 & 1 & Vic   & f &  5 & 94.9 & 55.6 & 92.0 & 35.5 & 71.7 & 51.0 & 15.3 & 28.0 & 33.0\\\\\n\t13 & 13 & 1 & Vic   & m &  5 & 95.1 & 59.9 & 89.5 & 36.0 & 71.0 & 49.8 & 15.8 & 27.0 & 32.0\\\\\n\t14 & 14 & 1 & Vic   & m &  3 & 95.4 & 57.6 & 91.5 & 36.0 & 74.3 & 53.7 & 15.1 & 28.0 & 31.5\\\\\n\t15 & 15 & 1 & Vic   & m &  5 & 92.9 & 57.6 & 85.5 & 34.0 & 69.7 & 51.8 & 15.7 & 28.0 & 35.0\\\\\n\t16 & 16 & 1 & Vic   & m &  4 & 91.6 & 56.0 & 86.0 & 34.5 & 73.0 & 51.4 & 14.4 & 28.0 & 32.0\\\\\n\t17 & 17 & 1 & Vic   & f &  1 & 94.7 & 67.7 & 89.5 & 36.5 & 73.2 & 53.2 & 14.7 & 29.0 & 31.0\\\\\n\t18 & 18 & 1 & Vic   & m &  2 & 93.5 & 55.7 & 90.0 & 36.0 & 73.7 & 55.4 & 15.3 & 28.0 & 32.0\\\\\n\t19 & 19 & 1 & Vic   & f &  5 & 94.4 & 55.4 & 90.5 & 35.0 & 73.4 & 53.9 & 15.2 & 28.0 & 32.0\\\\\n\t20 & 20 & 1 & Vic   & f &  4 & 94.8 & 56.3 & 89.0 & 38.0 & 73.8 & 52.4 & 15.5 & 27.0 & 36.0\\\\\n\t21 & 21 & 1 & Vic   & f &  3 & 95.9 & 58.1 & 96.5 & 39.5 & 77.9 & 52.9 & 14.2 & 30.0 & 40.0\\\\\n\t22 & 22 & 1 & Vic   & m &  3 & 96.3 & 58.5 & 91.0 & 39.5 & 73.5 & 52.1 & 16.2 & 28.0 & 36.0\\\\\n\t23 & 23 & 1 & Vic   & f &  4 & 92.5 & 56.1 & 89.0 & 36.0 & 72.8 & 53.3 & 15.4 & 28.0 & 35.0\\\\\n\t24 & 24 & 1 & Vic   & m &  2 & 94.4 & 54.9 & 84.0 & 34.0 & 75.0 & 53.5 & 16.2 & 27.0 & 32.0\\\\\n\t25 & 25 & 1 & Vic   & m &  3 & 95.8 & 58.5 & 91.5 & 35.5 & 72.3 & 51.6 & 14.9 & 31.0 & 35.0\\\\\n\t26 & 26 & 1 & Vic   & m &  7 & 96.0 & 59.0 & 90.0 & 36.0 & 73.6 & 56.2 & 15.0 & 29.0 & 38.0\\\\\n\t27 & 27 & 1 & Vic   & f &  2 & 90.5 & 54.5 & 85.0 & 35.0 & 70.3 & 50.8 & 14.2 & 23.0 & 28.0\\\\\n\t28 & 28 & 1 & Vic   & m &  4 & 93.8 & 56.8 & 87.0 & 34.5 & 73.2 & 53.0 & 15.3 & 27.0 & 30.0\\\\\n\t29 & 29 & 1 & Vic   & f &  3 & 92.8 & 56.0 & 88.0 & 35.0 & 74.9 & 51.8 & 14.0 & 24.0 & 32.0\\\\\n\t30 & 30 & 1 & Vic   & f &  2 & 92.1 & 54.4 & 84.0 & 33.5 & 70.6 & 50.8 & 14.5 & 24.5 & 33.0\\\\\n\t31 & 31 & 1 & Vic   & m &  3 & 92.8 & 54.1 & 93.0 & 37.0 & 68.0 & 52.5 & 14.5 & 27.0 & 31.0\\\\\n\t32 & 32 & 1 & Vic   & f &  4 & 94.3 & 56.7 & 94.0 & 39.0 & 74.8 & 52.0 & 14.9 & 28.0 & 34.0\\\\\n\t33 & 33 & 1 & Vic   & m &  3 & 91.4 & 54.6 & 89.0 & 37.0 & 70.8 & 51.8 & 14.8 & 24.0 & 30.0\\\\\n\t34 & 34 & 2 & Vic   & m &  2 & 90.6 & 55.7 & 85.5 & 36.5 & 73.1 & 53.1 & 14.4 & 26.0 & 28.5\\\\\n\t35 & 35 & 2 & Vic   & m &  4 & 94.4 & 57.9 & 85.0 & 35.5 & 71.2 & 55.5 & 16.4 & 28.0 & 35.5\\\\\n\t36 & 36 & 2 & Vic   & m &  7 & 93.3 & 59.3 & 88.0 & 35.0 & 74.3 & 52.0 & 14.9 & 25.5 & 36.0\\\\\n\t37 & 37 & 2 & Vic   & f &  2 & 89.3 & 54.8 & 82.5 & 35.0 & 71.2 & 52.0 & 13.6 & 28.0 & 31.5\\\\\n\t38 & 38 & 2 & Vic   & m &  7 & 92.4 & 56.0 & 80.5 & 35.5 & 68.4 & 49.5 & 15.9 & 27.0 & 30.0\\\\\n\t39 & 39 & 2 & Vic   & f &  1 & 84.7 & 51.5 & 75.0 & 34.0 & 68.7 & 53.4 & 13.0 & 25.0 & 25.0\\\\\n\t40 & 40 & 2 & Vic   & f &  3 & 91.0 & 55.0 & 84.5 & 36.0 & 72.8 & 51.4 & 13.6 & 27.0 & 30.0\\\\\n\t41 & 41 & 2 & Vic   & f &  5 & 88.4 & 57.0 & 83.0 & 36.5 &   NA & 40.3 & 15.9 & 27.0 & 30.5\\\\\n\t42 & 42 & 2 & Vic   & m &  3 & 85.3 & 54.1 & 77.0 & 32.0 & 62.7 & 51.2 & 13.8 & 25.5 & 33.0\\\\\n\t43 & 43 & 2 & Vic   & f &  2 & 90.0 & 55.5 & 81.0 & 32.0 & 72.0 & 49.4 & 13.4 & 29.0 & 31.0\\\\\n\t44 & 44 & 2 & Vic   & m & NA & 85.1 & 51.5 & 76.0 & 35.5 & 70.3 & 52.6 & 14.4 & 23.0 & 27.0\\\\\n\t45 & 45 & 2 & Vic   & m &  3 & 90.7 & 55.9 & 81.0 & 34.0 & 71.5 & 54.0 & 14.6 & 27.0 & 31.5\\\\\n\t46 & 46 & 2 & Vic   & m & NA & 91.4 & 54.4 & 84.0 & 35.0 & 72.8 & 51.2 & 14.4 & 24.5 & 35.0\\\\\n\t47 & 47 & 3 & other & m &  2 & 90.1 & 54.8 & 89.0 & 37.5 & 66.0 & 45.5 & 15.0 & 25.0 & 33.0\\\\\n\t48 & 48 & 3 & other & m &  5 & 98.6 & 63.2 & 85.0 & 34.0 & 66.9 & 44.9 & 17.0 & 28.0 & 35.0\\\\\n\t49 & 49 & 3 & other & m &  4 & 95.4 & 59.2 & 85.0 & 37.0 & 69.0 & 45.0 & 15.9 & 29.5 & 35.5\\\\\n\t50 & 50 & 3 & other & f &  5 & 91.6 & 56.4 & 88.0 & 38.0 & 65.0 & 47.2 & 14.9 & 28.0 & 36.0\\\\\n\\end{tabular}\n",
            "text/plain": [
              "   case site Pop   sex age hdlngth skullw totlngth taill footlgth earconch eye \n",
              "1   1   1    Vic   m    8  94.1    60.4   89.0     36.0  74.5     54.5     15.2\n",
              "2   2   1    Vic   f    6  92.5    57.6   91.5     36.5  72.5     51.2     16.0\n",
              "3   3   1    Vic   f    6  94.0    60.0   95.5     39.0  75.4     51.9     15.5\n",
              "4   4   1    Vic   f    6  93.2    57.1   92.0     38.0  76.1     52.2     15.2\n",
              "5   5   1    Vic   f    2  91.5    56.3   85.5     36.0  71.0     53.2     15.1\n",
              "6   6   1    Vic   f    1  93.1    54.8   90.5     35.5  73.2     53.6     14.2\n",
              "7   7   1    Vic   m    2  95.3    58.2   89.5     36.0  71.5     52.0     14.2\n",
              "8   8   1    Vic   f    6  94.8    57.6   91.0     37.0  72.7     53.9     14.5\n",
              "9   9   1    Vic   f    9  93.4    56.3   91.5     37.0  72.4     52.9     15.5\n",
              "10 10   1    Vic   f    6  91.8    58.0   89.5     37.5  70.9     53.4     14.4\n",
              "11 11   1    Vic   f    9  93.3    57.2   89.5     39.0  77.2     51.3     14.9\n",
              "12 12   1    Vic   f    5  94.9    55.6   92.0     35.5  71.7     51.0     15.3\n",
              "13 13   1    Vic   m    5  95.1    59.9   89.5     36.0  71.0     49.8     15.8\n",
              "14 14   1    Vic   m    3  95.4    57.6   91.5     36.0  74.3     53.7     15.1\n",
              "15 15   1    Vic   m    5  92.9    57.6   85.5     34.0  69.7     51.8     15.7\n",
              "16 16   1    Vic   m    4  91.6    56.0   86.0     34.5  73.0     51.4     14.4\n",
              "17 17   1    Vic   f    1  94.7    67.7   89.5     36.5  73.2     53.2     14.7\n",
              "18 18   1    Vic   m    2  93.5    55.7   90.0     36.0  73.7     55.4     15.3\n",
              "19 19   1    Vic   f    5  94.4    55.4   90.5     35.0  73.4     53.9     15.2\n",
              "20 20   1    Vic   f    4  94.8    56.3   89.0     38.0  73.8     52.4     15.5\n",
              "21 21   1    Vic   f    3  95.9    58.1   96.5     39.5  77.9     52.9     14.2\n",
              "22 22   1    Vic   m    3  96.3    58.5   91.0     39.5  73.5     52.1     16.2\n",
              "23 23   1    Vic   f    4  92.5    56.1   89.0     36.0  72.8     53.3     15.4\n",
              "24 24   1    Vic   m    2  94.4    54.9   84.0     34.0  75.0     53.5     16.2\n",
              "25 25   1    Vic   m    3  95.8    58.5   91.5     35.5  72.3     51.6     14.9\n",
              "26 26   1    Vic   m    7  96.0    59.0   90.0     36.0  73.6     56.2     15.0\n",
              "27 27   1    Vic   f    2  90.5    54.5   85.0     35.0  70.3     50.8     14.2\n",
              "28 28   1    Vic   m    4  93.8    56.8   87.0     34.5  73.2     53.0     15.3\n",
              "29 29   1    Vic   f    3  92.8    56.0   88.0     35.0  74.9     51.8     14.0\n",
              "30 30   1    Vic   f    2  92.1    54.4   84.0     33.5  70.6     50.8     14.5\n",
              "31 31   1    Vic   m    3  92.8    54.1   93.0     37.0  68.0     52.5     14.5\n",
              "32 32   1    Vic   f    4  94.3    56.7   94.0     39.0  74.8     52.0     14.9\n",
              "33 33   1    Vic   m    3  91.4    54.6   89.0     37.0  70.8     51.8     14.8\n",
              "34 34   2    Vic   m    2  90.6    55.7   85.5     36.5  73.1     53.1     14.4\n",
              "35 35   2    Vic   m    4  94.4    57.9   85.0     35.5  71.2     55.5     16.4\n",
              "36 36   2    Vic   m    7  93.3    59.3   88.0     35.0  74.3     52.0     14.9\n",
              "37 37   2    Vic   f    2  89.3    54.8   82.5     35.0  71.2     52.0     13.6\n",
              "38 38   2    Vic   m    7  92.4    56.0   80.5     35.5  68.4     49.5     15.9\n",
              "39 39   2    Vic   f    1  84.7    51.5   75.0     34.0  68.7     53.4     13.0\n",
              "40 40   2    Vic   f    3  91.0    55.0   84.5     36.0  72.8     51.4     13.6\n",
              "41 41   2    Vic   f    5  88.4    57.0   83.0     36.5    NA     40.3     15.9\n",
              "42 42   2    Vic   m    3  85.3    54.1   77.0     32.0  62.7     51.2     13.8\n",
              "43 43   2    Vic   f    2  90.0    55.5   81.0     32.0  72.0     49.4     13.4\n",
              "44 44   2    Vic   m   NA  85.1    51.5   76.0     35.5  70.3     52.6     14.4\n",
              "45 45   2    Vic   m    3  90.7    55.9   81.0     34.0  71.5     54.0     14.6\n",
              "46 46   2    Vic   m   NA  91.4    54.4   84.0     35.0  72.8     51.2     14.4\n",
              "47 47   3    other m    2  90.1    54.8   89.0     37.5  66.0     45.5     15.0\n",
              "48 48   3    other m    5  98.6    63.2   85.0     34.0  66.9     44.9     17.0\n",
              "49 49   3    other m    4  95.4    59.2   85.0     37.0  69.0     45.0     15.9\n",
              "50 50   3    other f    5  91.6    56.4   88.0     38.0  65.0     47.2     14.9\n",
              "   chest belly\n",
              "1  28.0  36.0 \n",
              "2  28.5  33.0 \n",
              "3  30.0  34.0 \n",
              "4  28.0  34.0 \n",
              "5  28.5  33.0 \n",
              "6  30.0  32.0 \n",
              "7  30.0  34.5 \n",
              "8  29.0  34.0 \n",
              "9  28.0  33.0 \n",
              "10 27.5  32.0 \n",
              "11 31.0  34.0 \n",
              "12 28.0  33.0 \n",
              "13 27.0  32.0 \n",
              "14 28.0  31.5 \n",
              "15 28.0  35.0 \n",
              "16 28.0  32.0 \n",
              "17 29.0  31.0 \n",
              "18 28.0  32.0 \n",
              "19 28.0  32.0 \n",
              "20 27.0  36.0 \n",
              "21 30.0  40.0 \n",
              "22 28.0  36.0 \n",
              "23 28.0  35.0 \n",
              "24 27.0  32.0 \n",
              "25 31.0  35.0 \n",
              "26 29.0  38.0 \n",
              "27 23.0  28.0 \n",
              "28 27.0  30.0 \n",
              "29 24.0  32.0 \n",
              "30 24.5  33.0 \n",
              "31 27.0  31.0 \n",
              "32 28.0  34.0 \n",
              "33 24.0  30.0 \n",
              "34 26.0  28.5 \n",
              "35 28.0  35.5 \n",
              "36 25.5  36.0 \n",
              "37 28.0  31.5 \n",
              "38 27.0  30.0 \n",
              "39 25.0  25.0 \n",
              "40 27.0  30.0 \n",
              "41 27.0  30.5 \n",
              "42 25.5  33.0 \n",
              "43 29.0  31.0 \n",
              "44 23.0  27.0 \n",
              "45 27.0  31.5 \n",
              "46 24.5  35.0 \n",
              "47 25.0  33.0 \n",
              "48 28.0  35.0 \n",
              "49 29.5  35.5 \n",
              "50 28.0  36.0 "
            ]
          },
          "metadata": {}
        }
      ],
      "source": [
        "# lets view a few columns\n",
        "head(pos,50)"
      ]
    },
    {
      "cell_type": "code",
      "execution_count": 6,
      "metadata": {
        "colab": {
          "base_uri": "https://localhost:8080/",
          "height": 34
        },
        "id": "DWA1kZOT_REa",
        "outputId": "0289129c-25e6-46d5-cd77-9d9e812f400f"
      },
      "outputs": [
        {
          "output_type": "display_data",
          "data": {
            "text/html": [
              "3"
            ],
            "text/markdown": "3",
            "text/latex": "3",
            "text/plain": [
              "[1] 3"
            ]
          },
          "metadata": {}
        }
      ],
      "source": [
        "# lets check if there are null values in the dataset\n",
        "sum(is.na(pos))\n"
      ]
    },
    {
      "cell_type": "code",
      "execution_count": 7,
      "metadata": {
        "colab": {
          "base_uri": "https://localhost:8080/"
        },
        "id": "mxUmkdGkCkhl",
        "outputId": "d954a653-1bed-4cbf-fc60-3aba5d2fe5ba"
      },
      "outputs": [
        {
          "output_type": "stream",
          "name": "stdout",
          "text": [
            "     row col\n",
            "[1,]  44   5\n",
            "[2,]  46   5\n",
            "[3,]  41  10\n"
          ]
        }
      ],
      "source": [
        "# Lets find out which particular column is the null values located.\n",
        "Na_values <- which(is.na(pos), arr.ind = TRUE)\n",
        "print(Na_values)\n"
      ]
    },
    {
      "cell_type": "code",
      "execution_count": 8,
      "metadata": {
        "colab": {
          "base_uri": "https://localhost:8080/",
          "height": 34
        },
        "id": "P1mbIJvXEdnF",
        "outputId": "95d3f4cb-ea1a-49e6-9716-0406055d6032"
      },
      "outputs": [
        {
          "output_type": "display_data",
          "data": {
            "text/html": [
              "<style>\n",
              ".list-inline {list-style: none; margin:0; padding: 0}\n",
              ".list-inline>li {display: inline-block}\n",
              ".list-inline>li:not(:last-child)::after {content: \"\\00b7\"; padding: 0 .5ex}\n",
              "</style>\n",
              "<ol class=list-inline><li>'case'</li><li>'site'</li><li>'Pop'</li><li>'sex'</li><li>'age'</li><li>'hdlngth'</li><li>'skullw'</li><li>'totlngth'</li><li>'taill'</li><li>'footlgth'</li><li>'earconch'</li><li>'eye'</li><li>'chest'</li><li>'belly'</li></ol>\n"
            ],
            "text/markdown": "1. 'case'\n2. 'site'\n3. 'Pop'\n4. 'sex'\n5. 'age'\n6. 'hdlngth'\n7. 'skullw'\n8. 'totlngth'\n9. 'taill'\n10. 'footlgth'\n11. 'earconch'\n12. 'eye'\n13. 'chest'\n14. 'belly'\n\n\n",
            "text/latex": "\\begin{enumerate*}\n\\item 'case'\n\\item 'site'\n\\item 'Pop'\n\\item 'sex'\n\\item 'age'\n\\item 'hdlngth'\n\\item 'skullw'\n\\item 'totlngth'\n\\item 'taill'\n\\item 'footlgth'\n\\item 'earconch'\n\\item 'eye'\n\\item 'chest'\n\\item 'belly'\n\\end{enumerate*}\n",
            "text/plain": [
              " [1] \"case\"     \"site\"     \"Pop\"      \"sex\"      \"age\"      \"hdlngth\" \n",
              " [7] \"skullw\"   \"totlngth\" \"taill\"    \"footlgth\" \"earconch\" \"eye\"     \n",
              "[13] \"chest\"    \"belly\"   "
            ]
          },
          "metadata": {}
        }
      ],
      "source": [
        "# lets view our column names\n",
        "names(pos)"
      ]
    },
    {
      "cell_type": "markdown",
      "metadata": {
        "id": "HAJJ2Tq0_UXY"
      },
      "source": [
        "Lets go up to column 5, which is the Age column and column 10 which is the footlgth column"
      ]
    },
    {
      "cell_type": "code",
      "execution_count": 9,
      "metadata": {
        "colab": {
          "base_uri": "https://localhost:8080/"
        },
        "id": "oP8Yq3il_ROl",
        "outputId": "4837c85c-98e2-462d-e0fc-36116e158fb8"
      },
      "outputs": [
        {
          "output_type": "stream",
          "name": "stdout",
          "text": [
            "'data.frame':\t104 obs. of  14 variables:\n",
            " $ case    : int  1 2 3 4 5 6 7 8 9 10 ...\n",
            " $ site    : int  1 1 1 1 1 1 1 1 1 1 ...\n",
            " $ Pop     : chr  \"Vic\" \"Vic\" \"Vic\" \"Vic\" ...\n",
            " $ sex     : chr  \"m\" \"f\" \"f\" \"f\" ...\n",
            " $ age     : int  8 6 6 6 2 1 2 6 9 6 ...\n",
            " $ hdlngth : num  94.1 92.5 94 93.2 91.5 93.1 95.3 94.8 93.4 91.8 ...\n",
            " $ skullw  : num  60.4 57.6 60 57.1 56.3 54.8 58.2 57.6 56.3 58 ...\n",
            " $ totlngth: num  89 91.5 95.5 92 85.5 90.5 89.5 91 91.5 89.5 ...\n",
            " $ taill   : num  36 36.5 39 38 36 35.5 36 37 37 37.5 ...\n",
            " $ footlgth: num  74.5 72.5 75.4 76.1 71 73.2 71.5 72.7 72.4 70.9 ...\n",
            " $ earconch: num  54.5 51.2 51.9 52.2 53.2 53.6 52 53.9 52.9 53.4 ...\n",
            " $ eye     : num  15.2 16 15.5 15.2 15.1 14.2 14.2 14.5 15.5 14.4 ...\n",
            " $ chest   : num  28 28.5 30 28 28.5 30 30 29 28 27.5 ...\n",
            " $ belly   : num  36 33 34 34 33 32 34.5 34 33 32 ...\n"
          ]
        }
      ],
      "source": [
        "# Filling up the null value, though the 3 missing values are negigible, lets check the structure of our dataset to be sure if we have enough to drop or we should rather try filling them up with descritive values.\n",
        "str(pos)"
      ]
    },
    {
      "cell_type": "code",
      "execution_count": 10,
      "metadata": {
        "id": "oOyJruJUG_3C",
        "colab": {
          "base_uri": "https://localhost:8080/",
          "height": 34
        },
        "outputId": "f666f522-5071-4cc1-c18b-3cfdbba2525d"
      },
      "outputs": [
        {
          "output_type": "display_data",
          "data": {
            "text/html": [
              "4"
            ],
            "text/markdown": "4",
            "text/latex": "4",
            "text/plain": [
              "[1] 4"
            ]
          },
          "metadata": {}
        }
      ],
      "source": [
        "# Lets remove the null values and find the mean value of the age column\n",
        "pos_no_na <- na.omit(pos)\n",
        "mean_age <- round(mean(pos_no_na$age),0) # since the ages are integers, I round off the mean to zero, which is 4.\n",
        "# will have to comment the codes above, since I have been able to get the mean value\n",
        "\n",
        "# lets do thevsame for the footlength column\n",
        "pos_no_na <- na.omit(pos)\n",
        "mean_footlgth <-round(mean(pos_no_na$footlgth),1)\n",
        "# will also comment this code out...the mean value is 68.4\n",
        "\n",
        "\n",
        "mean_age"
      ]
    },
    {
      "cell_type": "code",
      "source": [
        "mean_footlgth"
      ],
      "metadata": {
        "colab": {
          "base_uri": "https://localhost:8080/",
          "height": 34
        },
        "id": "fwfwBfUeClys",
        "outputId": "5f5b4e5b-6226-427c-8606-eba7b010fa72"
      },
      "execution_count": 11,
      "outputs": [
        {
          "output_type": "display_data",
          "data": {
            "text/html": [
              "68.4"
            ],
            "text/markdown": "68.4",
            "text/latex": "68.4",
            "text/plain": [
              "[1] 68.4"
            ]
          },
          "metadata": {}
        }
      ]
    },
    {
      "cell_type": "code",
      "execution_count": 12,
      "metadata": {
        "id": "zPmxvjglJ9Az"
      },
      "outputs": [],
      "source": [
        "# filling up the missing Age value with the calculated mean age value\n",
        "pos$age <- ifelse(is.na(pos$age),4, pos$age)"
      ]
    },
    {
      "cell_type": "code",
      "execution_count": 13,
      "metadata": {
        "id": "1i4-5AHoKdXN"
      },
      "outputs": [],
      "source": [
        "# filling up the missing footlength value with the calculated mean value.\n",
        "pos$footlgth <- ifelse(is.na(pos$footlgth),68.4, pos$footlgth)"
      ]
    },
    {
      "cell_type": "code",
      "execution_count": 14,
      "metadata": {
        "colab": {
          "base_uri": "https://localhost:8080/",
          "height": 34
        },
        "id": "qu--8e_tKSeU",
        "outputId": "9994f3b3-9e48-4267-8d61-64fa700a1900"
      },
      "outputs": [
        {
          "output_type": "display_data",
          "data": {
            "text/html": [
              "0"
            ],
            "text/markdown": "0",
            "text/latex": "0",
            "text/plain": [
              "[1] 0"
            ]
          },
          "metadata": {}
        }
      ],
      "source": [
        "# lets confirm if there are still missing values\n",
        "sum(is.na(pos))\n",
        "# the output of the above shows the missing values are well taken care of"
      ]
    },
    {
      "cell_type": "code",
      "execution_count": 15,
      "metadata": {
        "colab": {
          "base_uri": "https://localhost:8080/",
          "height": 34
        },
        "id": "SfDXpUb_LQTG",
        "outputId": "0a5a4396-99ae-43f4-a0a8-8fa8b79ede76"
      },
      "outputs": [
        {
          "output_type": "display_data",
          "data": {
            "text/html": [
              "0"
            ],
            "text/markdown": "0",
            "text/latex": "0",
            "text/plain": [
              "[1] 0"
            ]
          },
          "metadata": {}
        }
      ],
      "source": [
        "# Next...Lets chexck for the duplicate values.\n",
        "anyDuplicated(pos)\n",
        "# it returned zero, that means that we are Ok."
      ]
    },
    {
      "cell_type": "code",
      "execution_count": 16,
      "metadata": {
        "colab": {
          "base_uri": "https://localhost:8080/"
        },
        "id": "c42SqrzGFizR",
        "outputId": "751984f9-0844-4a30-ce6a-b267ab391a09"
      },
      "outputs": [
        {
          "output_type": "stream",
          "name": "stdout",
          "text": [
            "[1] 12\n"
          ]
        }
      ],
      "source": [
        "# Next... Lets check for outliers\n",
        "# But first, lets check how many numeric columns we've got in our dataset\n",
        "numerical_cols <- sum(sapply(pos, is.numeric))\n",
        "print(numerical_cols)"
      ]
    },
    {
      "cell_type": "code",
      "execution_count": 17,
      "metadata": {
        "colab": {
          "base_uri": "https://localhost:8080/"
        },
        "id": "ryh-yrKIRjsK",
        "outputId": "9b67ef2a-1588-499f-9fbb-c2eccd581ab1"
      },
      "outputs": [
        {
          "output_type": "stream",
          "name": "stdout",
          "text": [
            "    case     site      Pop      sex      age  hdlngth   skullw totlngth \n",
            "    TRUE     TRUE    FALSE    FALSE     TRUE     TRUE     TRUE     TRUE \n",
            "   taill footlgth earconch      eye    chest    belly \n",
            "    TRUE     TRUE     TRUE     TRUE     TRUE     TRUE \n"
          ]
        }
      ],
      "source": [
        "# Lets see the numeric columns\n",
        "numerical_cols <- sapply(pos, is.numeric) # We are using the sapa method here, lol.\n",
        "print(numerical_cols)"
      ]
    },
    {
      "cell_type": "code",
      "execution_count": 18,
      "metadata": {
        "colab": {
          "base_uri": "https://localhost:8080/",
          "height": 437
        },
        "id": "6TaM7JUFRSJL",
        "outputId": "296df6b6-1eec-4b4c-863e-ddbe515aa293"
      },
      "outputs": [
        {
          "output_type": "display_data",
          "data": {
            "text/plain": [
              "Plot with title “Boxplot of Numerical Columns (Excluding 'case')”"
            ],
            "image/png": "[encoded data removed]"
          },
          "metadata": {
            "image/png": {
              "width": 420,
              "height": 420
            }
          }
        }
      ],
      "source": [
        "# Lets visualise using boxplots to spot the outliers\n",
        "#boxplot(pos[, numerical_cols], main = \"Boxplot of Numerical Columns\")\n",
        "\n",
        "cols_to_plot <- setdiff(names(pos)[sapply(pos, is.numeric)], \"case\")\n",
        "boxplot(pos[, cols_to_plot],\n",
        "        main = \"Boxplot of Numerical Columns (Excluding 'case')\",\n",
        "        names = cols_to_plot,  # Add labels for all plots\n",
        "        cex.axis = 1.0,        # Increase font size of axis labels (adjust as needed)\n",
        "        boxwex = 0.8)"
      ]
    },
    {
      "cell_type": "code",
      "execution_count": 19,
      "metadata": {
        "colab": {
          "base_uri": "https://localhost:8080/"
        },
        "id": "vaHnZv5bXW6B",
        "outputId": "6d935049-ade6-4506-beac-d4fc3fd8e815"
      },
      "outputs": [
        {
          "output_type": "stream",
          "name": "stdout",
          "text": [
            "$site\n",
            "integer(0)\n",
            "\n",
            "$age\n",
            "numeric(0)\n",
            "\n",
            "$hdlngth\n",
            "numeric(0)\n",
            "\n",
            "$skullw\n",
            "[1] 67.7 68.6\n",
            "\n",
            "$totlngth\n",
            "numeric(0)\n",
            "\n",
            "$taill\n",
            "[1] 43\n",
            "\n",
            "$footlgth\n",
            "numeric(0)\n",
            "\n",
            "$earconch\n",
            "numeric(0)\n",
            "\n",
            "$eye\n",
            "numeric(0)\n",
            "\n",
            "$chest\n",
            "numeric(0)\n",
            "\n",
            "$belly\n",
            "numeric(0)\n",
            "\n"
          ]
        }
      ],
      "source": [
        "# Select the needed columns, initialize an empty list, loop through the whole columns and print out the outliers.\n",
        "#  I am using this method because it is shorter and simple to understand.\n",
        "# z-score is a statistical method for detecting and removing outliers.\n",
        "\n",
        "cols_to_analyze <- setdiff(names(pos)[sapply(pos, is.numeric)], \"case\")\n",
        "outliers_list <- list()\n",
        "for (col in cols_to_analyze) {\n",
        "  z_scores <- scale(pos[[col]])\n",
        "  outliers <- pos[[col]][abs(z_scores) > 3]\n",
        "  outliers_list[[col]] <- outliers\n",
        "}\n",
        "print(outliers_list)"
      ]
    },
    {
      "cell_type": "code",
      "execution_count": 20,
      "metadata": {
        "id": "uRT97TUoa7V1"
      },
      "outputs": [],
      "source": [
        "# remove the outliers\n",
        "for (col in cols_to_analyze) {\n",
        "  z_scores <- scale(pos[[col]])\n",
        "  outlier_indices <- which(abs(z_scores) > 3)\n",
        "  if (length(outlier_indices) > 0) {\n",
        "    pos <- pos[-outlier_indices, ]\n",
        "  }\n",
        "}"
      ]
    },
    {
      "cell_type": "code",
      "execution_count": 21,
      "metadata": {
        "colab": {
          "base_uri": "https://localhost:8080/"
        },
        "id": "806s_7zQbVav",
        "outputId": "9ed888e6-e825-4db1-8538-96522df32c84"
      },
      "outputs": [
        {
          "output_type": "stream",
          "name": "stdout",
          "text": [
            "$site\n",
            "integer(0)\n",
            "\n",
            "$age\n",
            "numeric(0)\n",
            "\n",
            "$hdlngth\n",
            "numeric(0)\n",
            "\n",
            "$skullw\n",
            "numeric(0)\n",
            "\n",
            "$totlngth\n",
            "numeric(0)\n",
            "\n",
            "$taill\n",
            "numeric(0)\n",
            "\n",
            "$footlgth\n",
            "numeric(0)\n",
            "\n",
            "$earconch\n",
            "numeric(0)\n",
            "\n",
            "$eye\n",
            "numeric(0)\n",
            "\n",
            "$chest\n",
            "numeric(0)\n",
            "\n",
            "$belly\n",
            "numeric(0)\n",
            "\n"
          ]
        }
      ],
      "source": [
        "# Check again to see if there are still outliers\n",
        "cols_to_analyze <- setdiff(names(pos)[sapply(pos, is.numeric)], \"case\")\n",
        "outliers_list <- list()\n",
        "for (col in cols_to_analyze) {\n",
        "  z_scores <- scale(pos[[col]])\n",
        "  outliers <- pos[[col]][abs(z_scores) > 3]\n",
        "  outliers_list[[col]] <- outliers\n",
        "}\n",
        "print(outliers_list)"
      ]
    },
    {
      "cell_type": "code",
      "source": [
        "# lets save our cleaned dataset...\n",
        "write.csv(pos, file = \"cleaned_possum_d.csv\", row.names = FALSE)\n",
        "df = read.csv(\"cleaned_possum_d.csv\")"
      ],
      "metadata": {
        "id": "pS-_6cEpx7ou"
      },
      "execution_count": 22,
      "outputs": []
    },
    {
      "cell_type": "markdown",
      "source": [
        "## other things"
      ],
      "metadata": {
        "id": "2aduoYHmyQEi"
      }
    },
    {
      "cell_type": "markdown",
      "source": [
        "### Lets work on the units of each column\n",
        "* Case: The observation number\n",
        "* Site: The site number where the possum was trapped.\n",
        "* Pop: Population, either Vic (Victoria) or other (New South Wales or Queensland).\n",
        "* Gender: Gender, either m (male) or f (female).\n",
        "* Age: Age of the possum.\n",
        "* hdlngth: Head length, in mm.\n",
        "* skullw: Skull width, in mm.\n",
        "* Totlngth: Total length, in cm.\n",
        "* tail: Tail length, in cm.\n",
        "* footlgth: foot length, in cm.\n",
        "* earconch: ear conch length,inmm\n",
        "* eye: distance from medial canthus to * * lateral canthus of right eye,inmm\n",
        "* chest: chest girth, in cm\n",
        "* belly: belly girth, in cm"
      ],
      "metadata": {
        "id": "-VqvDJS-igNl"
      }
    },
    {
      "cell_type": "code",
      "source": [
        "names(pos)"
      ],
      "metadata": {
        "colab": {
          "base_uri": "https://localhost:8080/",
          "height": 34
        },
        "id": "DtKY-PJImeHO",
        "outputId": "0d7a9d82-bb10-46b9-b2d6-d3273ab4835b"
      },
      "execution_count": 23,
      "outputs": [
        {
          "output_type": "display_data",
          "data": {
            "text/html": [
              "<style>\n",
              ".list-inline {list-style: none; margin:0; padding: 0}\n",
              ".list-inline>li {display: inline-block}\n",
              ".list-inline>li:not(:last-child)::after {content: \"\\00b7\"; padding: 0 .5ex}\n",
              "</style>\n",
              "<ol class=list-inline><li>'case'</li><li>'site'</li><li>'Pop'</li><li>'sex'</li><li>'age'</li><li>'hdlngth'</li><li>'skullw'</li><li>'totlngth'</li><li>'taill'</li><li>'footlgth'</li><li>'earconch'</li><li>'eye'</li><li>'chest'</li><li>'belly'</li></ol>\n"
            ],
            "text/markdown": "1. 'case'\n2. 'site'\n3. 'Pop'\n4. 'sex'\n5. 'age'\n6. 'hdlngth'\n7. 'skullw'\n8. 'totlngth'\n9. 'taill'\n10. 'footlgth'\n11. 'earconch'\n12. 'eye'\n13. 'chest'\n14. 'belly'\n\n\n",
            "text/latex": "\\begin{enumerate*}\n\\item 'case'\n\\item 'site'\n\\item 'Pop'\n\\item 'sex'\n\\item 'age'\n\\item 'hdlngth'\n\\item 'skullw'\n\\item 'totlngth'\n\\item 'taill'\n\\item 'footlgth'\n\\item 'earconch'\n\\item 'eye'\n\\item 'chest'\n\\item 'belly'\n\\end{enumerate*}\n",
            "text/plain": [
              " [1] \"case\"     \"site\"     \"Pop\"      \"sex\"      \"age\"      \"hdlngth\" \n",
              " [7] \"skullw\"   \"totlngth\" \"taill\"    \"footlgth\" \"earconch\" \"eye\"     \n",
              "[13] \"chest\"    \"belly\"   "
            ]
          },
          "metadata": {}
        }
      ]
    },
    {
      "cell_type": "code",
      "source": [
        "# Convert columns to meters, handling potential errors and rounding\n",
        "# for (col in c('hdlngth', 'skullw', 'Totlngth', 'tail', 'footlgth', 'earconch', 'eye', 'chest', 'belly')) {\n",
        "#   if (col %in% names(pos)) {\n",
        "#     tryCatch({\n",
        "#       if (col %in% c('hdlngth', 'skullw', 'earconch', 'eye')) {  # Columns in mm\n",
        "#         # pos[[col]] <- signif(pos[[col]] / 1000, digits = 3)\n",
        "#       } else if (col %in% c('Totlngth', 'tail', 'footlgth', 'chest', 'belly')) { # Columns in cm\n",
        "#         pos[[col]] <- signif(pos[[col]] / 100, digits = 3)\n",
        "#       }\n",
        "#     }, error = function(e) {\n",
        "#       print(paste(\"Error converting '\", col, \"': \", e, sep = \"\"))\n",
        "#       print(pos[[col]])\n",
        "#     })\n",
        "#   } else {\n",
        "#     print(paste(\"'\", col, \"' column not found in the dataframe.\", sep = \"\"))\n",
        "#   }\n",
        "# }\n",
        "\n",
        "# # Display the first few rows of the dataframe\n",
        "# head(pos, 1)"
      ],
      "metadata": {
        "id": "PZ8ZsVWGvxUP"
      },
      "execution_count": 24,
      "outputs": []
    },
    {
      "cell_type": "code",
      "source": [
        "library(readxl)\n"
      ],
      "metadata": {
        "id": "3GME-R_XGmhn"
      },
      "execution_count": 25,
      "outputs": []
    },
    {
      "cell_type": "code",
      "source": [
        "install.packages(\"DataExplorer\")\n",
        "library(DataExplorer)"
      ],
      "metadata": {
        "id": "HrOyaOtFPwZL",
        "outputId": "e3ad2a5e-e70a-4c41-b01e-3283657f6df7",
        "colab": {
          "base_uri": "https://localhost:8080/"
        }
      },
      "execution_count": null,
      "outputs": [
        {
          "metadata": {
            "tags": null
          },
          "name": "stderr",
          "output_type": "stream",
          "text": [
            "Installing package into ‘/usr/local/lib/R/site-library’\n",
            "(as ‘lib’ is unspecified)\n",
            "\n",
            "also installing the dependencies ‘plyr’, ‘Rcpp’, ‘htmlwidgets’, ‘igraph’, ‘reshape2’, ‘gridExtra’, ‘networkD3’\n",
            "\n",
            "\n"
          ]
        }
      ]
    },
    {
      "cell_type": "code",
      "source": [
        "pos %>% introduce()"
      ],
      "metadata": {
        "id": "nE-oW-xEQJiT"
      },
      "execution_count": null,
      "outputs": []
    },
    {
      "cell_type": "code",
      "source": [
        "install.packages(\"Hmisc\")\n",
        "library(Hmisc)\n"
      ],
      "metadata": {
        "id": "03JGQLwOSx-e"
      },
      "execution_count": null,
      "outputs": []
    },
    {
      "cell_type": "code",
      "source": [
        "pos %>% describe()"
      ],
      "metadata": {
        "id": "1jIH7d-7S6tD"
      },
      "execution_count": null,
      "outputs": []
    },
    {
      "cell_type": "code",
      "source": [
        "install.packages(\"skimr\")\n",
        "library(skimr)\n"
      ],
      "metadata": {
        "id": "HGgsv1iNULsf"
      },
      "execution_count": null,
      "outputs": []
    },
    {
      "cell_type": "markdown",
      "source": [
        "EXPLORATORY ANALYSIS"
      ],
      "metadata": {
        "id": "6flWX_yBUqBW"
      }
    },
    {
      "cell_type": "code",
      "source": [
        "install.packages(\"DT\")\n",
        "library(DT)"
      ],
      "metadata": {
        "id": "zO7R-j4TWfhG"
      },
      "execution_count": null,
      "outputs": []
    },
    {
      "cell_type": "code",
      "source": [
        "cleaned_possum_filtered <- pos %>% select(-c(Pop, sex))\n",
        "corr_matrix <- cor(cleaned_possum_filtered)\n",
        "library(htmlwidgets)\n",
        "if (exists(\"style_background_gradient\", mode = \"function\")) {\n",
        "  corr_matrix_styled <- corr_matrix %>%\n",
        "    htmlwidgets::style_background_gradient(cmap = \"coolwarm\")\n",
        "} else {\n",
        "  library(DT)\n",
        "  corr_matrix_styled <- DT::datatable(corr_matrix, options = list(\n",
        "    pageLength = 20,\n",
        "    ordering = FALSE\n",
        "  ))\n",
        "  corr_matrix_styled %>% formatStyle('all', function(x) {\n",
        "    if (x > 0.5) {\n",
        "      return(list(color = 'red'))\n",
        "    } else if (x < -0.5) {\n",
        "      return(list(color = 'blue'))\n",
        "    }\n",
        "  })\n",
        "}\n",
        "corr_matrix_styled\n"
      ],
      "metadata": {
        "id": "jY6U7wd1Upsu"
      },
      "execution_count": null,
      "outputs": []
    },
    {
      "cell_type": "code",
      "source": [
        "install.packages(\"reshape2\")\n",
        "library(reshape2)\n"
      ],
      "metadata": {
        "id": "sUApo-s0X3lm"
      },
      "execution_count": null,
      "outputs": []
    },
    {
      "cell_type": "code",
      "source": [
        "cleaned_possum_filtered <- pos %>% select(-c(Pop, sex))\n",
        "corr_matrix <- cor(cleaned_possum_filtered)\n",
        "library(ggplot2)\n",
        "ggplot(data = melt(corr_matrix), aes(x = Var1, y = Var2, fill = value)) +\n",
        "  geom_tile() +\n",
        "  # geom_text(aes(Var2, Var1, label = value), size = 3) +\n",
        "  scale_fill_gradient2(low = \"blue\", high = \"red\", limit = c(-1, 1), name = \"Correlation\") +\n",
        "  theme_minimal() +\n",
        "  theme(axis.title.x = element_blank(), axis.title.y = element_blank())"
      ],
      "metadata": {
        "id": "-wSmehbXYXkx"
      },
      "execution_count": null,
      "outputs": []
    },
    {
      "cell_type": "markdown",
      "source": [
        "UNIVARIATE ANALYSIS"
      ],
      "metadata": {
        "id": "Z1p5LLK0Yv7X"
      }
    },
    {
      "cell_type": "code",
      "source": [
        "library(ggplot2)\n",
        "\n",
        "ggplot2::ggplot(pos, aes(x = site)) +\n",
        "  ggplot2::geom_histogram(bins = 30, color = \"red\", fill = \"red\", alpha = 0.5) +\n",
        "  ggplot2::labs(title = \"Distribution of Site Values\", x = \"Site\", y = \"Frequency\") +\n",
        "  ggplot2::theme_bw() +\n",
        "  ggplot2::theme(plot.title = element_text(hjust = 0.5))"
      ],
      "metadata": {
        "id": "h4-baw0-YqIE"
      },
      "execution_count": null,
      "outputs": []
    },
    {
      "cell_type": "code",
      "source": [
        "ggplot2::ggplot(pos, aes(x = age)) +\n",
        "  ggplot2::geom_histogram(bins = 30, color = \"steelblue\", fill = \"steelblue\", alpha = 0.5) +\n",
        "  ggplot2::labs(title = \"Distribution of Age Values\", x = \"Age\", y = \"Frequency\") +\n",
        "  ggplot2::theme_bw() +\n",
        "  ggplot2::theme(plot.title = element_text(hjust = 0.5))"
      ],
      "metadata": {
        "id": "Fyb6w2wOZLhW"
      },
      "execution_count": null,
      "outputs": []
    },
    {
      "cell_type": "code",
      "source": [
        "ggplot2::ggplot(pos, aes(x = hdlngth)) +\n",
        "  ggplot2::geom_histogram(bins = 30, color = \"black\", fill = \"brown\", alpha = 0.5) +\n",
        "  ggplot2::labs(title = \"Distribution of Head Length\", x = \"hdlngth\", y = \"Frequency\") +\n",
        "  ggplot2::theme_bw() +\n",
        "  ggplot2::theme(plot.title = element_text(hjust = 0.5))"
      ],
      "metadata": {
        "id": "e5WkaA5VZTzl"
      },
      "execution_count": null,
      "outputs": []
    },
    {
      "cell_type": "code",
      "source": [
        "ggplot2::ggplot(pos, aes(x = skullw)) +\n",
        "  ggplot2::geom_histogram(bins = 30, color = \"black\", fill = \"green\", alpha = 0.5) +\n",
        "  ggplot2::labs(title = \"Distribution of Skull weight\", x = \"skullw\", y = \"Frequency\") +\n",
        "  ggplot2::theme_bw() +\n",
        "  ggplot2::theme(plot.title = element_text(hjust = 0.5))"
      ],
      "metadata": {
        "id": "2iR_-R8MZaxl"
      },
      "execution_count": null,
      "outputs": []
    },
    {
      "cell_type": "code",
      "source": [
        "ggplot2::ggplot(pos, aes(x = totlngth)) +\n",
        "  ggplot2::geom_histogram(bins = 30, color = \"black\", fill = \"black\", alpha = 0.5) +\n",
        "  ggplot2::labs(title = \"Distribution of Totlngth values\", x = \"totlngth\", y = \"Frequency\") +\n",
        "  ggplot2::theme_bw() +\n",
        "  ggplot2::theme(plot.title = element_text(hjust = 0.5))"
      ],
      "metadata": {
        "id": "flwJvtMYZjTd"
      },
      "execution_count": null,
      "outputs": []
    },
    {
      "cell_type": "code",
      "source": [
        "ggplot2::ggplot(pos, aes(x = taill)) +\n",
        "  ggplot2::geom_histogram(bins = 30, color = \"darkblue\", fill = \"darkblue\", alpha = 0.5) +\n",
        "  ggplot2::labs(title = \"Distribution of Tail Values\", x = \"taill\", y = \"Frequency\") +\n",
        "  ggplot2::theme_bw() +\n",
        "  ggplot2::theme(plot.title = element_text(hjust = 0.5))"
      ],
      "metadata": {
        "id": "AaKBOI5WZozd"
      },
      "execution_count": null,
      "outputs": []
    },
    {
      "cell_type": "code",
      "source": [
        "ggplot2::ggplot(pos, aes(x = footlgth)) +\n",
        "  ggplot2::geom_histogram(bins = 30, color = \"purple\", fill = \"purple\", alpha = 0.5) +\n",
        "  ggplot2::labs(title = \"Distribution of Foot Length\", x = \"footlgth\", y = \"Frequency\") +\n",
        "  ggplot2::theme_bw() +\n",
        "  ggplot2::theme(plot.title = element_text(hjust = 0.5))"
      ],
      "metadata": {
        "id": "ysdubkVCaKV2"
      },
      "execution_count": null,
      "outputs": []
    },
    {
      "cell_type": "code",
      "source": [
        "ggplot2::ggplot(pos, aes(x = earconch)) +\n",
        "  ggplot2::geom_histogram(bins = 30, color = \"gold\", fill = \"gold\", alpha = 0.5) +\n",
        "  ggplot2::labs(title = \"Distribution of Earconch Values\", x = \"earconch\", y = \"Frequency\") +\n",
        "  ggplot2::theme_bw() +\n",
        "  ggplot2::theme(plot.title = element_text(hjust = 0.5))"
      ],
      "metadata": {
        "id": "FkwPzPInaY6K"
      },
      "execution_count": null,
      "outputs": []
    },
    {
      "cell_type": "code",
      "source": [
        "ggplot2::ggplot(pos, aes(x = eye)) +\n",
        "  ggplot2::geom_histogram(bins = 30, color = \"skyblue\", fill = \"skyblue\", alpha = 0.5) +\n",
        "  ggplot2::labs(title = \"Distribution of Eye\", x = \"eye\", y = \"Frequency\") +\n",
        "  ggplot2::theme_bw() +\n",
        "  ggplot2::theme(plot.title = element_text(hjust = 0.5))"
      ],
      "metadata": {
        "id": "yxVwRObHbQme"
      },
      "execution_count": null,
      "outputs": []
    },
    {
      "cell_type": "code",
      "source": [
        "ggplot2::ggplot(pos, aes(x = chest)) +\n",
        "  ggplot2::geom_histogram(bins = 30, color = \"red\", fill = \"red\", alpha = 0.5) +\n",
        "  ggplot2::labs(title = \"Distribution of Chest Values\", x = \"chest\", y = \"Frequency\") +\n",
        "  ggplot2::theme_bw() +\n",
        "  ggplot2::theme(plot.title = element_text(hjust = 0.5))"
      ],
      "metadata": {
        "id": "70wi_jXrbXMu"
      },
      "execution_count": null,
      "outputs": []
    },
    {
      "cell_type": "code",
      "source": [
        "ggplot2::ggplot(pos, aes(x = belly)) +\n",
        "  ggplot2::geom_histogram(bins = 30, color = \"black\", fill = \"black\", alpha = 0.5) +\n",
        "  ggplot2::labs(title = \"Distribution of Belly Values\", x = \"belly\", y = \"Frequency\") +\n",
        "  ggplot2::theme_bw() +\n",
        "  ggplot2::theme(plot.title = element_text(hjust = 0.5))"
      ],
      "metadata": {
        "id": "j9DtSa_wbeWu"
      },
      "execution_count": null,
      "outputs": []
    },
    {
      "cell_type": "code",
      "source": [
        "cleaned_possum_sex_freq <- pos %>%\n",
        "  count(sex)\n",
        "\n",
        "ggplot2::ggplot(cleaned_possum_sex_freq, aes(x = sex, y = n)) +\n",
        "  ggplot2::geom_bar(stat = \"identity\", color = \"coral\") +\n",
        "  ggplot2::labs(title = \"Distribution of Sex\", x = \"Sex\", y = \"Frequency\") +\n",
        "  ggplot2::theme_bw()"
      ],
      "metadata": {
        "id": "NVKNGB6UbhTf"
      },
      "execution_count": null,
      "outputs": []
    },
    {
      "cell_type": "code",
      "source": [
        "cleaned_possum_pop_freq <- pos %>%\n",
        "  count(Pop)\n",
        "\n",
        "ggplot2::ggplot(cleaned_possum_pop_freq, aes(x = Pop, y = n)) +\n",
        "  ggplot2::geom_bar(stat = \"identity\", color = \"skyblue\") +\n",
        "  ggplot2::labs(title = \"Distribution of Pop\", x = \"Pop\", y = \"Frequency\") +\n",
        "  ggplot2::theme_bw()"
      ],
      "metadata": {
        "id": "1lCRhVvLbrdI"
      },
      "execution_count": null,
      "outputs": []
    },
    {
      "cell_type": "markdown",
      "source": [
        "BIVARIATE ANALYSIS\n"
      ],
      "metadata": {
        "id": "cwqRCBhsdsjN"
      }
    },
    {
      "cell_type": "code",
      "source": [
        "\n",
        "ggplot(pos, aes(x = hdlngth, y = age, color = age)) +\n",
        "  geom_point() +\n",
        "  geom_smooth(method = \"lm\", se = FALSE) +\n",
        "  labs(title = \"Headlength vs Age\", x = \"Headlength\", y = \"Age\") +\n",
        "  scale_color_gradient(name = \"Age\") +\n",
        "  theme_bw()"
      ],
      "metadata": {
        "id": "PNBZcEG-b0Zm"
      },
      "execution_count": null,
      "outputs": []
    },
    {
      "cell_type": "code",
      "source": [
        "\n",
        "ggplot(pos, aes(x = hdlngth, y = skullw, color = skullw, size = skullw)) +\n",
        "  geom_point() +\n",
        "  geom_smooth(method = \"lm\", se = FALSE) +\n",
        "  labs(title = \"Headlength vs Skullwidth\", x = \"Headlength\", y = \"Skullwidth\") +\n",
        "  scale_color_gradient(name = \"Skullwidth\") +\n",
        "  scale_size_area(name = \"Skullwidth\") +\n",
        "  theme_bw()"
      ],
      "metadata": {
        "id": "BpPLzzKOcDvH"
      },
      "execution_count": null,
      "outputs": []
    },
    {
      "cell_type": "code",
      "source": [
        "\n",
        "ggplot(pos, aes(x = footlgth, y = earconch, color = earconch)) +\n",
        "  geom_point() +\n",
        "  geom_smooth(method = \"lm\", se = FALSE) +\n",
        "  labs(title = \"Footlength vs Earconch\", x = \"Footlength\", y = \"Earconch\") +\n",
        "  scale_color_gradient(name = \"Earconch\") +\n",
        "  theme_bw()"
      ],
      "metadata": {
        "id": "8NTR4gRYcRRP"
      },
      "execution_count": null,
      "outputs": []
    },
    {
      "cell_type": "code",
      "source": [
        "\n",
        "ggplot(pos, aes(x = hdlngth, y = chest, color = chest)) +\n",
        "  geom_point() +\n",
        "  geom_smooth(method = \"lm\", se = FALSE) +\n",
        "  labs(title = \"Headlength vs Chest\", x = \"Headlength\", y = \"Chest\") +\n",
        "  scale_color_gradient(name = \"Chest\") +\n",
        "  theme_bw()"
      ],
      "metadata": {
        "id": "zOmLU5-acjMe"
      },
      "execution_count": null,
      "outputs": []
    },
    {
      "cell_type": "code",
      "source": [
        " ggplot(pos, aes(x = belly, y = chest, color = chest)) +\n",
        "  geom_point() +\n",
        "  geom_smooth(method = \"lm\", se = FALSE) +\n",
        "  labs(title = \"Belly vs Chest\", x = \"Belly\", y = \"Chest\") +\n",
        "  scale_color_gradient(name = \"Chest\") +\n",
        "  theme_bw()"
      ],
      "metadata": {
        "id": "dfL_0gskcuru"
      },
      "execution_count": null,
      "outputs": []
    },
    {
      "cell_type": "code",
      "source": [
        "\n",
        "ggplot(pos, aes(x = skullw, y = chest, color = chest)) +\n",
        "  geom_point() +\n",
        "  geom_smooth(method = \"lm\", se = FALSE) +\n",
        "  labs(title = \"Skullwidth vs Chest\", x = \"Skullwidth\", y = \"Chest\") +\n",
        "  scale_color_gradient(name = \"Chest\") +\n",
        "  theme_bw()"
      ],
      "metadata": {
        "id": "ANBZjFTKc3Ug"
      },
      "execution_count": null,
      "outputs": []
    },
    {
      "cell_type": "code",
      "source": [
        "ggplot(pos, aes(x = sex, y = hdlngth, color = sex)) +\n",
        "  geom_boxplot(notch = TRUE) +\n",
        "  stat_summary(fun.y = median, geom = \"point\", size = 3, color = \"black\") +\n",
        "  labs(title = \"Headlength vs Sex\", x = \"Sex\", y = \"Headlength\") +\n",
        "  scale_color_manual(values = c(\"blue\", \"red\")) +\n",
        "  theme_bw()"
      ],
      "metadata": {
        "id": "jLx1hMxXdJTL"
      },
      "execution_count": null,
      "outputs": []
    },
    {
      "cell_type": "code",
      "source": [
        "ggplot(pos, aes(x = Pop, y = hdlngth, color = sex)) +\n",
        "  geom_boxplot(notch = TRUE) +\n",
        "  stat_summary(fun.y = median, geom = \"point\", size = 3, color = \"black\") +\n",
        "  labs(title = \"Headlength vs Population\", x = \"Population\", y = \"Headlength\") +\n",
        "  scale_color_manual(values = c(\"blue\", \"red\")) +\n",
        "  theme_bw()"
      ],
      "metadata": {
        "id": "O7cQVElqdX44"
      },
      "execution_count": null,
      "outputs": []
    },
    {
      "cell_type": "markdown",
      "source": [
        "### Statistical inference\n",
        "\n",
        "Statistical tests"
      ],
      "metadata": {
        "id": "10pseFjUJ0pL"
      }
    },
    {
      "cell_type": "code",
      "source": [
        "tail(pos)"
      ],
      "metadata": {
        "id": "ekujuaIjKrBL"
      },
      "execution_count": null,
      "outputs": []
    },
    {
      "cell_type": "code",
      "source": [
        "install.packages(\"car\")\n",
        "library(car)"
      ],
      "metadata": {
        "id": "gs3JsK1iKUJt"
      },
      "execution_count": null,
      "outputs": []
    },
    {
      "cell_type": "markdown",
      "source": [
        "Let's check if the headlength is normally distributed using shapiro-Wilk normality test."
      ],
      "metadata": {
        "id": "VA6chZphKaju"
      }
    },
    {
      "cell_type": "code",
      "source": [
        "shapiro.test(pos$hdlngth)"
      ],
      "metadata": {
        "id": "6-0Sb91yKbTW"
      },
      "execution_count": null,
      "outputs": []
    },
    {
      "cell_type": "markdown",
      "source": [
        "since our p-value, i.e 0.1897 is not less than 0.05, hence we fail to reject our null hypothesis and conclude that our headlength column is normally distributed.\n"
      ],
      "metadata": {
        "id": "DaF49c5jKejg"
      }
    },
    {
      "cell_type": "markdown",
      "source": [
        "Next, we use the levene test to test for homogenity of variance for the head length across different sex groups (i.e male and female)"
      ],
      "metadata": {
        "id": "ffW_CXoeM14H"
      }
    },
    {
      "cell_type": "code",
      "source": [
        "leveneTest(hdlngth ~ sex, data = pos)\n"
      ],
      "metadata": {
        "id": "30R5N6r9J7MS"
      },
      "execution_count": null,
      "outputs": []
    },
    {
      "cell_type": "markdown",
      "source": [
        "since our p-value (0.0105) is less than 0.05, we reject our null hypothesis (there is no difference in variance across different groups) and conclude that there is a significant difference in variance across different groups (i.e male and female)."
      ],
      "metadata": {
        "id": "vgM9V-F4NIsl"
      }
    },
    {
      "cell_type": "markdown",
      "source": [
        "Furthermore, we test if there is a difference in mean headlength across male and female groups using the Two sample t test"
      ],
      "metadata": {
        "id": "SzJM9YgcN3l_"
      }
    },
    {
      "cell_type": "code",
      "source": [
        "t.test(hdlngth ~ sex, data = pos)"
      ],
      "metadata": {
        "id": "LXCH3dMlLP_u"
      },
      "execution_count": null,
      "outputs": []
    },
    {
      "cell_type": "markdown",
      "source": [
        "From our result, we see a p-value of 0.2592, which is greater than 0.05, hence we fail to reject our null hypothesis, and conclude that there is no difference between the mean head length of the two groups."
      ],
      "metadata": {
        "id": "0IqWz-YLObrt"
      }
    },
    {
      "cell_type": "markdown",
      "source": [
        "We further implement the same procedure for the various groups in our possum population location"
      ],
      "metadata": {
        "id": "AnJ3E8YtQZwq"
      }
    },
    {
      "cell_type": "code",
      "source": [
        "t.test(hdlngth ~ Pop, data = pos)"
      ],
      "metadata": {
        "id": "uwXKuqq7L4u-"
      },
      "execution_count": null,
      "outputs": []
    },
    {
      "cell_type": "markdown",
      "source": [
        "Since our p-value is greater thn 0.05, we also fail to reject the null hypothesis and conclude that there is no difference in the mean headlength of the two different population location"
      ],
      "metadata": {
        "id": "0PUR4dh6R-Dd"
      }
    },
    {
      "cell_type": "code",
      "source": [
        "str(pos$site)\n",
        "pos$site <- factor(pos$site)\n",
        "str(pos$site)"
      ],
      "metadata": {
        "id": "QZRKlcG-z_o9"
      },
      "execution_count": null,
      "outputs": []
    },
    {
      "cell_type": "code",
      "source": [
        "anova_result <- aov(hdlngth ~ site, data = pos)\n",
        "summary(anova_result)"
      ],
      "metadata": {
        "id": "FlxmoSnxLi5G"
      },
      "execution_count": null,
      "outputs": []
    },
    {
      "cell_type": "markdown",
      "source": [
        "performing post hoc test using turkey HSD to understand specific differences between the mean of each group after determining that there is no difference."
      ],
      "metadata": {
        "id": "g9fBESFmUuiQ"
      }
    },
    {
      "cell_type": "code",
      "source": [
        "tukey_result <- TukeyHSD(anova_result)\n",
        "\n",
        "tukey_result"
      ],
      "metadata": {
        "id": "TjjxwnR0UTiG"
      },
      "execution_count": null,
      "outputs": []
    },
    {
      "cell_type": "markdown",
      "source": [
        "We use the fisher test and chi-square test to check if there is an association between different categorical variables."
      ],
      "metadata": {
        "id": "83obQ3HAV4Kx"
      }
    },
    {
      "cell_type": "code",
      "source": [
        "chisq.test(table(pos$Pop, pos$sex))"
      ],
      "metadata": {
        "id": "OVrhwLH7MLEm"
      },
      "execution_count": null,
      "outputs": []
    },
    {
      "cell_type": "markdown",
      "source": [
        "Here, our p-value, is greater than 0.05, hence we fail to reject our null hypothesis at 5% level of significance and conclude that there is no association between the population location and sex"
      ],
      "metadata": {
        "id": "9dJvbT1QbPVT"
      }
    },
    {
      "cell_type": "code",
      "source": [
        "fisher.test(table(pos$site, pos$sex))"
      ],
      "metadata": {
        "id": "WedWpzRGW_kp"
      },
      "execution_count": null,
      "outputs": []
    },
    {
      "cell_type": "markdown",
      "source": [
        "Here, our p-value, is greater than 0.05, hence we fail to reject our null hypothesis at 5% level of significance and conclude that there is no association between the population site and sex"
      ],
      "metadata": {
        "id": "ohaVu5r_cFTi"
      }
    },
    {
      "cell_type": "code",
      "source": [
        "fisher.test(table(pos$site, pos$Pop))"
      ],
      "metadata": {
        "id": "CDK7wobnXEFq"
      },
      "execution_count": null,
      "outputs": []
    },
    {
      "cell_type": "markdown",
      "source": [
        "Here, our p-value, is less than 0.05, hence  reject our null hypothesis at 5% level of significance and conclude that there is an association between the population site and population location"
      ],
      "metadata": {
        "id": "zshIwDdZcJZI"
      }
    },
    {
      "cell_type": "markdown",
      "source": [
        "### Data Preprocessing\n",
        "Label encoding"
      ],
      "metadata": {
        "id": "1B6plFtabzLB"
      }
    },
    {
      "cell_type": "code",
      "source": [
        "head(pos)"
      ],
      "metadata": {
        "id": "g6WrsufCbya4"
      },
      "execution_count": null,
      "outputs": []
    },
    {
      "cell_type": "markdown",
      "source": [
        "Encoding the sex feature to have male as 2 and female as 1"
      ],
      "metadata": {
        "id": "Jb5RRPp6eUir"
      }
    },
    {
      "cell_type": "code",
      "source": [
        "pos$sex = as.numeric(factor(pos$sex))\n",
        "\n",
        "head(pos)\n"
      ],
      "metadata": {
        "id": "cWIWl_U2pcS1"
      },
      "execution_count": null,
      "outputs": []
    },
    {
      "cell_type": "code",
      "source": [
        "unique(pos$sex)"
      ],
      "metadata": {
        "id": "t-XN8IKJqcHh"
      },
      "execution_count": null,
      "outputs": []
    },
    {
      "cell_type": "markdown",
      "source": [
        "one-hot encoding"
      ],
      "metadata": {
        "id": "an4b4GyBqkSW"
      }
    },
    {
      "cell_type": "markdown",
      "source": [
        "We want to encode our Population location (Pop) column so that Southern Victoria is 0 and other locations are 1"
      ],
      "metadata": {
        "id": "ucJikNnhe6CI"
      }
    },
    {
      "cell_type": "code",
      "source": [
        "#fitering the Pop column\n",
        "pos_encode = pos[3]\n",
        "pos_encode"
      ],
      "metadata": {
        "id": "r8b5Eu4yqmmx"
      },
      "execution_count": null,
      "outputs": []
    },
    {
      "cell_type": "code",
      "source": [
        "install.packages(\"mltools\")"
      ],
      "metadata": {
        "id": "I3cKswNWqd28"
      },
      "execution_count": null,
      "outputs": []
    },
    {
      "cell_type": "code",
      "source": [
        "library(mltools)"
      ],
      "metadata": {
        "id": "nQMFaK7irFuC"
      },
      "execution_count": null,
      "outputs": []
    },
    {
      "cell_type": "code",
      "source": [
        "install.packages(\"caret\")"
      ],
      "metadata": {
        "id": "ID6JU90huqtn"
      },
      "execution_count": null,
      "outputs": []
    },
    {
      "cell_type": "code",
      "source": [
        "library(caret)"
      ],
      "metadata": {
        "id": "uXwsv4vpusuR"
      },
      "execution_count": null,
      "outputs": []
    },
    {
      "cell_type": "code",
      "source": [
        "dummies <- dummyVars(~Pop, data = pos)\n",
        "one_hot_encoded <- predict(dummies, newdata = pos)\n",
        "\n",
        "# Converting to data frame and view the result\n",
        "one_hot_encoded_df <- data.frame(one_hot_encoded)\n",
        "print(one_hot_encoded_df)"
      ],
      "metadata": {
        "id": "gOtHUitarLL8"
      },
      "execution_count": null,
      "outputs": []
    },
    {
      "cell_type": "code",
      "source": [
        "one_hot_encoded_df$Pop_other =one_hot_encoded_df$Popother\n",
        "one_hot_encoded_df$Pop_Vic =one_hot_encoded_df$PopVic\n",
        "one_hot_encoded_df = subset(one_hot_encoded_df, select = -Popother)\n",
        "one_hot_encoded_df = subset(one_hot_encoded_df, select = -PopVic)\n",
        "\n",
        "head(one_hot_encoded_df)"
      ],
      "metadata": {
        "id": "MYdDjqc0w9CG"
      },
      "execution_count": null,
      "outputs": []
    },
    {
      "cell_type": "code",
      "source": [
        "#combining our encoded feature and our dataframe\n",
        "pos = cbind(pos, one_hot_encoded_df)\n",
        "pos = subset(pos, select = -Pop)\n"
      ],
      "metadata": {
        "id": "6r2YneMu3brP"
      },
      "execution_count": null,
      "outputs": []
    },
    {
      "cell_type": "markdown",
      "source": [
        "We also want to encode our site column"
      ],
      "metadata": {
        "id": "gd9cltWvguo0"
      }
    },
    {
      "cell_type": "code",
      "source": [
        "#fitering the Pop column\n",
        "pos_encode1 = pos[2]\n",
        "pos_encode1"
      ],
      "metadata": {
        "id": "JaPLwuLdguHo"
      },
      "execution_count": null,
      "outputs": []
    },
    {
      "cell_type": "code",
      "source": [
        "dummies1 <- dummyVars(~site, data = pos)\n",
        "one_hot_encoded1 <- predict(dummies1, newdata = pos)\n",
        "\n",
        "# Converting to data frame and view the result\n",
        "one_hot_encoded_df1 <- data.frame(one_hot_encoded1)\n",
        "print(one_hot_encoded_df1)"
      ],
      "metadata": {
        "id": "z4e2LWGOg_8G"
      },
      "execution_count": null,
      "outputs": []
    },
    {
      "cell_type": "code",
      "source": [
        "one_hot_encoded_df1$site_1 =one_hot_encoded_df1$`site.1`\n",
        "one_hot_encoded_df1$site_2 =one_hot_encoded_df1$`site.2`\n",
        "one_hot_encoded_df1$site_3 =one_hot_encoded_df1$`site.3`\n",
        "one_hot_encoded_df1$site_4 =one_hot_encoded_df1$`site.4`\n",
        "one_hot_encoded_df1$site_5 =one_hot_encoded_df1$`site.5`\n",
        "one_hot_encoded_df1$site_6 =one_hot_encoded_df1$`site.6`\n",
        "one_hot_encoded_df1$site_7 =one_hot_encoded_df1$`site.7`\n",
        "\n",
        "one_hot_encoded_df1 = subset(one_hot_encoded_df1, select = -site.1)\n",
        "one_hot_encoded_df1 = subset(one_hot_encoded_df1, select = -site.2)\n",
        "one_hot_encoded_df1 = subset(one_hot_encoded_df1, select = -site.3)\n",
        "one_hot_encoded_df1 = subset(one_hot_encoded_df1, select = -site.4)\n",
        "one_hot_encoded_df1 = subset(one_hot_encoded_df1, select = -site.5)\n",
        "one_hot_encoded_df1 = subset(one_hot_encoded_df1, select = -site.6)\n",
        "one_hot_encoded_df1 = subset(one_hot_encoded_df1, select = -site.7)\n",
        "\n",
        "head(one_hot_encoded_df1)"
      ],
      "metadata": {
        "id": "txnVWoUqhTC5"
      },
      "execution_count": null,
      "outputs": []
    },
    {
      "cell_type": "code",
      "source": [
        "#combining our encoded feature and our dataframe\n",
        "pos = cbind(pos, one_hot_encoded_df1)\n",
        "pos = subset(pos, select = -site)"
      ],
      "metadata": {
        "id": "6ZtCyL8LiU40"
      },
      "execution_count": null,
      "outputs": []
    },
    {
      "cell_type": "markdown",
      "source": [
        "We have some inconsistencies in our data type and to do away with this, we need to convert our data type to the aapropriate type for normalizing and model building"
      ],
      "metadata": {
        "id": "RQuJMsVTgUOW"
      }
    },
    {
      "cell_type": "code",
      "source": [
        "str(pos)"
      ],
      "metadata": {
        "id": "KXyhgs8d32ji"
      },
      "execution_count": null,
      "outputs": []
    },
    {
      "cell_type": "code",
      "source": [
        "convert_dt_type = function(cols) {\n",
        "  cols = lapply(cols, as.integer)\n",
        "  return(cols)\n",
        "}"
      ],
      "metadata": {
        "id": "neGnrkrt4-UM"
      },
      "execution_count": null,
      "outputs": []
    },
    {
      "cell_type": "markdown",
      "source": [
        "### Data Pre-processing\n",
        "\n",
        "splitting our data"
      ],
      "metadata": {
        "id": "rV7OQEXZFv6U"
      }
    },
    {
      "cell_type": "code",
      "source": [
        "install.packages(\"caret\")\n",
        "library(caret)"
      ],
      "metadata": {
        "id": "bJa10iS0oh0R"
      },
      "execution_count": null,
      "outputs": []
    },
    {
      "cell_type": "code",
      "source": [
        "install.packages(\"caret\", dependencies = TRUE)"
      ],
      "metadata": {
        "id": "tBxkgm-4sIIu"
      },
      "execution_count": null,
      "outputs": []
    },
    {
      "cell_type": "code",
      "source": [
        "library(caret)"
      ],
      "metadata": {
        "id": "MHmlam4ssJlH"
      },
      "execution_count": null,
      "outputs": []
    },
    {
      "cell_type": "code",
      "source": [
        "set.seed(234)\n",
        "split_data = createDataPartition(y=pos$hdlngth, p = 0.7, list = False)\n",
        "\n",
        "train_index = split_data[[1]]\n",
        "test_index = split_data[[2]]\n",
        "\n",
        "train_data = pos[train_index, ]\n",
        "test_data = pos[test_index, ]"
      ],
      "metadata": {
        "id": "w8Qp2edlHbZx"
      },
      "execution_count": null,
      "outputs": []
    },
    {
      "cell_type": "code",
      "source": [],
      "metadata": {
        "id": "XY2CS_slKKKC"
      },
      "execution_count": null,
      "outputs": []
    },
    {
      "cell_type": "code",
      "source": [],
      "metadata": {
        "id": "XE5vkzl8KKF1"
      },
      "execution_count": null,
      "outputs": []
    }
  ],
  "metadata": {
    "colab": {
      "provenance": [],
      "include_colab_link": true
    },
    "kernelspec": {
      "display_name": "R",
      "name": "ir"
    },
    "language_info": {
      "name": "R"
    }
  },
  "nbformat": 4,
  "nbformat_minor": 0
}